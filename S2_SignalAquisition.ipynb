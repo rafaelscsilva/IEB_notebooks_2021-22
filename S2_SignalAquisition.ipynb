{
 "cells": [
  {
   "cell_type": "markdown",
   "metadata": {},
   "source": [
    "### Introdução à Engenharia Biomédica (P4 - 2021/2022)\n",
    "# Aula Prática #2 - Aquisição de Sinal"
   ]
  },
  {
   "cell_type": "markdown",
   "metadata": {},
   "source": [
    "Name: (write here)\n",
    "\n",
    "IST ID: (write here)\n",
    "\n",
    "Date: (write here)"
   ]
  },
  {
   "cell_type": "markdown",
   "metadata": {},
   "source": [
    "# I. Overview\n",
    "<br>\n",
    "<div class=\"title\"style=\"width:100%; background:linear-gradient(to right,#FDC86E,#fbb144);font-family:'arial black',monospace; text-align: center; padding: 7px 0; border-radius: 5px 50px;margin-top:-15px\" >  </div>"
   ]
  },
  {
   "cell_type": "markdown",
   "metadata": {},
   "source": [
    "# <div style=\"color:#fbb144\"> 1. Introduction </div>\n",
    "\n",
    "Biosignals have been extensively used in the healthcare and medical domains for more than 100 years, with the best known examples being perhaps Electrocardiography (ECG) and Electroencephalography (EEG). In this lesson we will perform a set of experiments using a real-world biomedical data acquisition system, understand the basic architecture of such systems, review typical setup procedures, and observe signal sources in real-time."
   ]
  },
  {
   "cell_type": "markdown",
   "metadata": {},
   "source": [
    "## <div style=\"color:#fbb144;\"> 2. Objectives</div>\n",
    " * Understand the basic blocks of a data acquisition system\n",
    " * Get acquainted with biosignal acquisition procedures\n",
    " * Handling recorded data on a computing environment (Excel)"
   ]
  },
  {
   "cell_type": "markdown",
   "metadata": {},
   "source": [
    "## <div style=\"color:#fbb144;\"> 3. Materials  </div>\n",
    "\n",
    " * ScientIIST API (Python 3)\n",
    " \n",
    " * 1x ScientISST Sense device\n",
    " \n",
    " * 1x 3.7V LiPo battery\n",
    " \n",
    " * 1 x ECG sensor (3 electrodes)\n",
    " \n",
    " * 1x Bluetooth adapter (optional)\n",
    " \n",
    " * Microsoft Excel\n",
    " "
   ]
  },
  {
   "cell_type": "markdown",
   "metadata": {},
   "source": [
    "# II. Principles of Biosignal Acquisition\n",
    "<br>\n",
    "<div class=\"title\"style=\"width:100%; background:linear-gradient(to right,#FDC86E,#fbb144);font-family:'arial black',monospace; text-align: center; padding: 7px 0; border-radius: 5px 50px;margin-top:-15px\" >  </div>"
   ]
  },
  {
   "cell_type": "markdown",
   "metadata": {},
   "source": [
    "# <div style=\"color:#fbb144\"> 1. Introduction </div>\n",
    "\n",
    "Diagrama da aquisiçao de sinal\n",
    "\n",
    "exemplos de sinais\n"
   ]
  },
  {
   "cell_type": "markdown",
   "metadata": {},
   "source": [
    "# <div style=\"color:#fbb144\"> 2. Filtering and Amplification </div>\n",
    "\n",
    "amplitude dos sinais em tensao, especialmente biologicos\n",
    "\n",
    "circuitos para filtrar e amplificar\n"
   ]
  },
  {
   "cell_type": "markdown",
   "metadata": {},
   "source": [
    "# <div style=\"color:#fbb144\"> 2. Analog Signal Acquisition </div>\n",
    "\n",
    "amostragem\n",
    "\n",
    "quantizaçao\n",
    "\n",
    "recolha de sinal\n"
   ]
  },
  {
   "cell_type": "markdown",
   "metadata": {},
   "source": [
    "# III. Experimental: Signal Acquisition\n",
    "<br>\n",
    "<div class=\"title\"style=\"width:100%; background:linear-gradient(to right,#FDC86E,#fbb144);font-family:'arial black',monospace; text-align: center; padding: 7px 0; border-radius: 5px 50px;margin-top:-15px\" >  </div>"
   ]
  },
  {
   "cell_type": "markdown",
   "metadata": {},
   "source": [
    "# IV. Experimental: File Loading and Visualization with Excel\n",
    "<br>\n",
    "<div class=\"title\"style=\"width:100%; background:linear-gradient(to right,#FDC86E,#fbb144);font-family:'arial black',monospace; text-align: center; padding: 7px 0; border-radius: 5px 50px;margin-top:-15px\" >  </div>"
   ]
  },
  {
   "cell_type": "code",
   "execution_count": null,
   "metadata": {},
   "outputs": [],
   "source": []
  },
  {
   "cell_type": "code",
   "execution_count": null,
   "metadata": {},
   "outputs": [],
   "source": []
  }
 ],
 "metadata": {
  "kernelspec": {
   "display_name": "Python 3",
   "language": "python",
   "name": "python3"
  },
  "language_info": {
   "codemirror_mode": {
    "name": "ipython",
    "version": 3
   },
   "file_extension": ".py",
   "mimetype": "text/x-python",
   "name": "python",
   "nbconvert_exporter": "python",
   "pygments_lexer": "ipython3",
   "version": "3.8.5"
  }
 },
 "nbformat": 4,
 "nbformat_minor": 4
}
