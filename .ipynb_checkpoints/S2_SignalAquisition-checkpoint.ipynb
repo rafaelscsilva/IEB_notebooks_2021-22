{
 "cells": [
  {
   "cell_type": "markdown",
   "metadata": {},
   "source": [
    "### Introdução à Engenharia Biomédica (P4 - 2021/2022)\n",
    "# Aula Prática #2 - Aquisição de Sinal"
   ]
  },
  {
   "cell_type": "markdown",
   "metadata": {},
   "source": [
    "Name: (write here)\n",
    "\n",
    "IST ID: (write here)\n",
    "\n",
    "Date: (write here)"
   ]
  },
  {
   "cell_type": "markdown",
   "metadata": {},
   "source": [
    "# I. Overview\n",
    "<br>\n",
    "<div class=\"title\"style=\"width:100%; background:linear-gradient(to right,#FDC86E,#fbb144);font-family:'arial black',monospace; text-align: center; padding: 7px 0; border-radius: 5px 50px;margin-top:-15px\" >  </div>"
   ]
  },
  {
   "cell_type": "markdown",
   "metadata": {},
   "source": [
    "# <div style=\"color:#fbb144\"> 1. Introduction </div>\n",
    "\n",
    "Biosignals have been extensively used in the healthcare and medical domains for more than 100 years, with the best known examples being perhaps Electrocardiography (ECG) and Electroencephalography (EEG). In this lesson we will perform a simple ECG acquisition and visualize it using a common spreadsheet environment (Excel)."
   ]
  },
  {
   "cell_type": "markdown",
   "metadata": {},
   "source": [
    "## <div style=\"color:#fbb144;\"> 2. Objectives</div>\n",
    " * Understand the basic blocks of a data acquisition system\n",
    " * Get acquainted with biosignal acquisition procedures\n",
    " * Handling recorded data on a spreadsheet environment (Excel)"
   ]
  },
  {
   "cell_type": "markdown",
   "metadata": {},
   "source": [
    "## <div style=\"color:#fbb144;\"> 3. Materials  </div>\n",
    " \n",
    " * 1x ScientISST Sense device\n",
    " \n",
    " * 1x 3.7 V LiPo battery\n",
    " \n",
    " * 1 x ECG sensor (3 electrodes)\n",
    " \n",
    " * 1x Bluetooth adapter (optional)\n",
    " \n",
    " * ScientISST API (Python 3)\n",
    " \n",
    " * Microsoft Excel\n",
    " "
   ]
  },
  {
   "cell_type": "markdown",
   "metadata": {},
   "source": [
    "# II. Principles of Biosignal Acquisition\n",
    "<br>\n",
    "<div class=\"title\"style=\"width:100%; background:linear-gradient(to right,#FDC86E,#fbb144);font-family:'arial black',monospace; text-align: center; padding: 7px 0; border-radius: 5px 50px;margin-top:-15px\" >  </div>"
   ]
  },
  {
   "cell_type": "markdown",
   "metadata": {},
   "source": [
    "# <div style=\"color:#fbb144\"> 1. Diagram of Signal Acquisition Systems </div>\n",
    "\n",
    "<img src=\"resources/acquisition_diagram.png\" style=\"width:70%\">\n",
    "\n",
    "Biossignal acquisition systems are composed of several parts:\n",
    "\n",
    "* **Instrumentation Amplifier (IA)**: responsible for amplifying the difference of its inputs\n",
    "\n",
    "* **Filtering**: suppresses unwanted signal sources (e.g. 50 Hz interference, EMG)\n",
    "\n",
    "* **Amplifier**: provides aditional amplification (gain)\n",
    "\n",
    "* **Analog-to-Digital Converter (ADC)**: converts an analog signal (continuous) into a digital one (binary representation)"
   ]
  },
  {
   "cell_type": "markdown",
   "metadata": {},
   "source": [
    "# <div style=\"color:#fbb144\"> 2. Analog Signal Acquisition </div>\n",
    "\n",
    "amostragem\n",
    "\n",
    "quantizaçao\n",
    "\n",
    "recolha de sinal pelo ADC\n"
   ]
  },
  {
   "cell_type": "markdown",
   "metadata": {},
   "source": [
    "# III. Experimental: Signal Acquisition\n",
    "<br>\n",
    "<div class=\"title\"style=\"width:100%; background:linear-gradient(to right,#FDC86E,#fbb144);font-family:'arial black',monospace; text-align: center; padding: 7px 0; border-radius: 5px 50px;margin-top:-15px\" >  </div>"
   ]
  },
  {
   "cell_type": "markdown",
   "metadata": {},
   "source": [
    "You will use the ScientISST SENSE development board. It is ideal for prototyping with biosignals, as it allows coupling with ECG, PCG, EMG, EEG, EDA, ACC, pressure and temperature sensors. It contains several analog and digital ports and allows WiFi and Bluetooth communication protocols.\n",
    "\n",
    "<img src=\"resources/sense_schematics.jpg\" style=\"height:300px\">"
   ]
  },
  {
   "cell_type": "markdown",
   "metadata": {},
   "source": [
    "# <div style=\"color:#fbb144\"> 1. Setup ScientISST SENSE Device </div>"
   ]
  },
  {
   "cell_type": "markdown",
   "metadata": {},
   "source": [
    "#### 1. Switch ON the ScientISST Board\n",
    "\n",
    "Connect a battery and turn on the device until the white LED blinks\n",
    "<img src=\"resources/sense_switch_on.png\" style=\"height:250px\">\n",
    "\n",
    "#### 2. Connect to the board via Bluetooth\n",
    "\n",
    "Enable Bluetooth on your computer and connect to \"ScientISST-XX-XX\" where XX-XX is the tag of your device.\n",
    "\n",
    "#### 3. Find the communication port that is being used\n",
    "\n",
    "Depending on your OS, you need to find a given string, which is the unique address of your ScientISST device.\n",
    "\n",
    "##### Windows\n",
    "\n",
    "In the 'Bluetooth & other devices' settings, and while connected to the board, search for \"More Bluetooth options\", then go to the \"COM ports\" tab and check the port name for the **outgoing** entry with the name ScientISST-XX-XX.\n",
    "\n",
    "The string should look like: ```COMX```\n",
    "\n",
    "##### Mac\n",
    "\n",
    "First, you need to pair the ScientISST SENSE device in the Bluetooth Settings section. Then, you'll need to find the serial port address using the Terminal:\n",
    "\n",
    "\n",
    "```batch\n",
    "ls /dev/tty.ScientISST*\n",
    "```\n",
    "\n",
    "Copy the string like: ```/dev/tty.ScientISST-XX-XX-SPP_SE```\n",
    "\n",
    "#### 4. Connect the ECG sensor to ScientISST\n",
    "\n",
    "Plug your sensor into the ScientISST **side conector** (AI1), and connect the standard pre-gelled ECG electrodes to the sensor."
   ]
  },
  {
   "cell_type": "markdown",
   "metadata": {},
   "source": [
    "<tr>\n",
    "    <td><img src=\"resources/sense_kit.png\" style=\"height:300px\"></td>\n",
    "    <td><img src=\"resources/sense_AI1.png\" style=\"height:250px\"></td>\n",
    "</tr>"
   ]
  },
  {
   "cell_type": "markdown",
   "metadata": {},
   "source": [
    "#### 5. Place the ECG electrodes on the predefined body locations\n",
    "\n",
    "<img src=\"resources/ecg_3lead.png\" style=\"height:200px\">"
   ]
  },
  {
   "cell_type": "markdown",
   "metadata": {},
   "source": [
    "# <div style=\"color:#fbb144\"> 2. Acquisition with ScientISST </div>\n",
    "\n"
   ]
  },
  {
   "cell_type": "markdown",
   "metadata": {},
   "source": [
    "### <div style=\"color:#fbb144\"> OPTION I: Acquisition with ScientISST SENSE online platform</div>\n",
    "\n",
    "<img src=\"resources/sense_online.png\" style=\"height:200px\">\n",
    "\n",
    "#### 1. Access the ScientISST SENSE online platform\n",
    "\n",
    "https://sense.scientisst.com/ \n",
    "\n",
    "#### 2. Adjust sampling rate\n",
    "\n",
    "Go to SETTINGS and adjust the sampling rate to 100 Hz.\n",
    "\n",
    "#### 3. Enter the acquisition environment\n",
    "\n",
    "Return to the main page, and press LIVE.\n",
    "\n",
    "#### 4. Connect to the ScientISST device\n",
    "\n",
    "Click on CONNECT and select the COM Port of the ScientISST device.\n",
    "\n",
    "#### 5. Make an acquisition \n",
    "\n",
    "Press START to begin acquisition and STOP to end it (~10 seconds).\n",
    "\n",
    "#### 6. Save the acquisition\n",
    "\n",
    "To save the acquisition as a .csv file click on DOWNLOAD.\n"
   ]
  },
  {
   "cell_type": "markdown",
   "metadata": {},
   "source": [
    "### <div style=\"color:#fbb144\"> OPTION II: Acquisition with ScientISST API (Python) </div>\n",
    "\n",
    "\n",
    "#### 1. Clone the ScientISST SENSE API\n",
    "\n",
    "Open the Anaconda Prompt, navigate to a folder of your choice and type:\n",
    "\n",
    "```\n",
    "git clone https://github.com/scientisst/scientisst-sense-api-python.git\n",
    "``` \n",
    "\n",
    "Make sure you have the GitPython package installed:\n",
    "```\n",
    "pip install gitpython\n",
    "``` \n",
    "\n",
    "*Note*: You can navigate through the folders by using the command:\n",
    "\n",
    "```\n",
    "cd <path_to_folder>\n",
    "\n",
    "```\n",
    "\n",
    "#### 2. Access the SENSE API and run it\n",
    "\n",
    "To access the SENSE API, first type:\n",
    "\n",
    "```\n",
    "cd scientisst-sense-api-python\n",
    "```\n",
    "\n",
    "Then, type:\n",
    "\n",
    "```\n",
    "python sense.py\n",
    "```\n",
    "\n",
    "You now have access to the list to the SENSE API commands.\n",
    "\n",
    "#### 3. Make an acquisition\n",
    "\n",
    "To make a 10-second acquisition at a sampling rate of 100 Hz, type:\n",
    "\n",
    "```\n",
    "python sense.py COMX -f 100 -d 10 -o ecg.csv\n",
    "```\n",
    "\n",
    ", where `COMX` is the COM port associated to the ScientISST device."
   ]
  },
  {
   "cell_type": "markdown",
   "metadata": {},
   "source": [
    "<div style=\"background:#946db2;font-family:'arial', monospace; text-align: center; padding: 10px 0; border-radius:10px; width:70%; margin:auto \" >\n",
    "  <span style=\"font-size:20px;position:relative;color:white; \"> Explore </span> <br>\n",
    "  <div style=\"background:#d0b3e6;font-size:12px\"> \n",
    "    For further help, visit the ScientISST Sense API Python page <a href='https://scientisst.github.io/scientisst-sense-api-python/'>here</a>.\n",
    "</div>"
   ]
  },
  {
   "cell_type": "markdown",
   "metadata": {},
   "source": [
    "# IV. Experimental: File Loading and Visualization with Excel\n",
    "<br>\n",
    "<div class=\"title\"style=\"width:100%; background:linear-gradient(to right,#FDC86E,#fbb144);font-family:'arial black',monospace; text-align: center; padding: 7px 0; border-radius: 5px 50px;margin-top:-15px\" >  </div>"
   ]
  },
  {
   "cell_type": "markdown",
   "metadata": {},
   "source": [
    "# <div style=\"color:#fbb144\"> 1. File Loading </div>\n",
    "\n",
    "#### 1. Create a blank Excel workbook\n",
    "\n",
    "Open Excel and open a new workbook (File $\\rightarrow$ New $\\rightarrow$ Blank workbook).\n",
    "\n",
    "#### 2. Choose the CSV file to import\n",
    "\n",
    "In the Data tab, select the .csv file you created in the previous section (Data $\\rightarrow$ Get & Transform Data $\\rightarrow$ Get Data $\\rightarrow$ From File $\\rightarrow$ From Text/CSV).\n",
    "\n",
    "#### 3. Import the CSV file\n",
    "\n",
    "Define the import parameters to correctly import the .csv file:\n",
    "\n",
    "* Delimiter: Tab\n",
    "\n",
    "and click Load. Adjust the table style according to your preferences."
   ]
  },
  {
   "cell_type": "markdown",
   "metadata": {},
   "source": [
    "# <div style=\"color:#fbb144\"> 2. Signal Visualization </div>\n",
    "\n",
    "\n",
    "#### 1. Create a signal plot with the ADC values\n",
    "\n",
    "* Create a new sheet and name it `ADC Plot`. \n",
    "\n",
    "* Edit cell A1 to be called 'Samples', and add a number sequence column starting in 1 with step 1 (Hint: you can use the SEQUENCE and ROWS excel functions).\n",
    "\n",
    "* Copy the 'AI1_raw' column into the `ADC Plot` sheet (column B). Change the column name to 'ADC value'.\n",
    "\n",
    "* Format columns A and B as a Table (Select columns A and B $\\rightarrow$ Insert $\\rightarrow$ Table).\n",
    "\n",
    "* Create a scatter plot with straight lines (Insert $\\rightarrow$ Charts $\\rightarrow$ X Y (Scatter) $\\rightarrow$ Scatter with Straight Lines).\n",
    "\n",
    "* Add the corresponding data (Select Data $\\rightarrow$ Add):\n",
    "\n",
    "    - Series name: (click on B1)\n",
    "    - Series X values: (click on A column)\n",
    "    - Series Y values: (click on B column)\n",
    "\n",
    "\n",
    "* Add Chart Title, Axis Titles and adjust the axis bounds to properly fit the signal.\n",
    "\n",
    "* Adjust the plotting style (line color, line width, ...) according to your preferences.\n",
    "\n",
    "\n",
    "#### 2. Create a signal plot using real units\n",
    "\n",
    "* Create a new sheet and name it `Real Unit Plot`. \n",
    "\n",
    "* Below a cell called 'Time (s)', add a time sequence starting in 0 with step:\n",
    "\n",
    "$$\\textrm{Step = }\\frac{1}{\\textrm{Sampling frequency (Hz)}}$$\n",
    "\n",
    "* Copy the 'AI1_raw' column into the `Real Unit Plot` sheet. Change the column name to 'ADC value'.\n",
    "\n",
    "* Name an empty column 'Amplitude (mV)' and apply the following value transformation to the 'ADC value' column:\n",
    "\n",
    "$$ \\textrm{Amplitude (mV)} = \\frac{\\left(\\frac{\\textrm{ADC value}}{\\textrm{ADC resolution}}-\\frac{1}{2}\\right) \\times V C C}{G_{E C G}}$$\n",
    "\n",
    "* Format the columns as a Table.\n",
    "\n",
    "* Create a scientific plot for the signal in real units, i.e., Amplitude (mV) vs. Time (s).\n",
    "\n",
    "\n",
    "*Hints:* \n",
    "\n",
    "- System operating voltage $VCC$ = $3.3$ V\n",
    "- ADC resolution = $2^n$, $n$ = number of bits of the ADC channel\n",
    "- ECG sensor gain $G_{ECG} = 1100$\n",
    "- Check the first line of the original .csv file for missing values ('Header' and 'Resolution (bits)')"
   ]
  },
  {
   "cell_type": "markdown",
   "metadata": {},
   "source": [
    "```Contributors:  ``` Hugo Plácido da Silva, Rafael Silva"
   ]
  },
  {
   "cell_type": "markdown",
   "metadata": {},
   "source": [
    "<tr>\n",
    "<td> <img src=\"https://github.com/PIA-Group/ScientIST-notebooks/blob/master/_Resources/Images/IT.png?raw=true\" alt=\"Drawing\" style=\"width:200px\"/> </td>\n",
    "\n",
    "<td> <img src=\"https://github.com/PIA-Group/ScientIST-notebooks/blob/master/_Resources/Images/IST.png?raw=true\" alt=\"Drawing\"\n",
    "style=\"width:200px\"/> </td>\n",
    "</tr>"
   ]
  }
 ],
 "metadata": {
  "kernelspec": {
   "display_name": "Python 3",
   "language": "python",
   "name": "python3"
  },
  "language_info": {
   "codemirror_mode": {
    "name": "ipython",
    "version": 3
   },
   "file_extension": ".py",
   "mimetype": "text/x-python",
   "name": "python",
   "nbconvert_exporter": "python",
   "pygments_lexer": "ipython3",
   "version": "3.8.5"
  }
 },
 "nbformat": 4,
 "nbformat_minor": 4
}
