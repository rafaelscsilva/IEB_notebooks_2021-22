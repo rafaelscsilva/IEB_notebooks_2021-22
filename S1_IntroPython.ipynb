{
 "cells": [
  {
   "cell_type": "markdown",
   "metadata": {},
   "source": [
    "### Introdução à Engenharia Biomédica (P4 - 2021/2022)\n",
    "# Aula Prática #1 - Introdução ao Python\n"
   ]
  },
  {
   "cell_type": "markdown",
   "metadata": {},
   "source": [
    "<div style=\"background:#48ba57;font-family:'arial', monospace; text-align: center; padding: 10px 0; border-radius:10px; width:70%; margin:auto \" >\n",
    "  <span style=\"font-size:20px;position:relative;color:white; \">  Note </span> <br>\n",
    "  <div style=\"background:#9de3a6;font-size:12px\"> \n",
    "    Notebooks are organized by cells or blocks that can contain text or code, which can be edited by double-clicking them (try filling in your data below). To execute a cell, you can click the <b>Run</b> button (above) or press <b>CTRL+ENTER</b>. To execute the current cell and move to the next, press SHIFT+ENTER. Familiarize yourself with the notebook operations in the toolbar above.\n",
    "</div>\n",
    "</div>"
   ]
  },
  {
   "cell_type": "markdown",
   "metadata": {},
   "source": [
    "Name: (write here)\n",
    "\n",
    "IST ID: (write here)\n",
    "\n",
    "Date: (write here)"
   ]
  },
  {
   "cell_type": "markdown",
   "metadata": {},
   "source": [
    "# I. Overview\n",
    "<br>\n",
    "<div class=\"title\"style=\"width:100%; background:linear-gradient(to right,#FDC86E,#fbb144);font-family:'arial black',monospace; text-align: center; padding: 7px 0; border-radius: 5px 50px;margin-top:-15px\" >  </div>"
   ]
  },
  {
   "cell_type": "markdown",
   "metadata": {},
   "source": [
    "# <div style=\"color:#fbb144\"> 1. Introduction </div>\n",
    "\n",
    "Programming is the way we can communicate with computers, giving them instructions on what operations they should perform to achieve a specific goal. Nowadays, programming is an essential skill for scientists and engineers because it allows them to solve problems. Problem solving involves (i) formulating the problem, (ii) thinking of an approach to solve it, and (iii) reporting the results, which can all be done with programming. Programming can be used for many purposes, such as creating websites, configuring hardware, developing computer applications and games, managing databases, running simulations, etc.\n",
    "\n",
    "In this class, you will get a first approach to what programming is, using one of the most popular and simple programming languages: **Python**."
   ]
  },
  {
   "cell_type": "markdown",
   "metadata": {},
   "source": [
    "# <div style=\"color:#fbb144\"> 2. Objectives</div>\n",
    "Here's what you should learn by the end of this class:\n",
    "* Understand what Python is, and the benefits of working in a Python environment;\n",
    "* Learn key programming concepts and tasks;\n",
    "* Perform simple arithmetic operations and create functions;\n",
    "* Learn how to install a Python package and use its functions;\n",
    "* Configure a Python environment for biomedical signal acquisition and processing."
   ]
  },
  {
   "cell_type": "markdown",
   "metadata": {},
   "source": [
    "# II. What is Python? How does it work?\n",
    "<br>\n",
    "<div style=\"width:100%; background:linear-gradient(to right,#FDC86E,#fbb144);font-family:'arial black'; text-align: center; padding: 7px 0; border-radius: 5px 50px; margin-top:-15px\" > </div>"
   ]
  },
  {
   "cell_type": "markdown",
   "metadata": {},
   "source": [
    "# <div style=\"color:#fbb144\">  1. High-level programming </div>\n",
    "\n",
    "**Python** is a high-level programming language, just like C, C++ and Java. This means that it does not communicate directly with the computer - something that is only possible with low-level languages. Instead, the *source code* (i.e., the high-level program) is first processed by an *interpreter* or by a *compiler*. These are responsible to convert the source code into *machine code*, written in binary language (0's and 1's). Python scripts are executed by an interpreter, which translates the program one statement (or instruction) at a time, making it easier to correct mistakes. Compilers, on the other hand, read the entire program and translate it into machine code, which is the case for languages such as C, C++ and Java.\n",
    "\n",
    "We can use interpreters in two ways: the interactive mode and the script mode. In the interactive mode we type a simple operation and the interpreter outputs the result. In the script mode we save the code in a file (.py for Python), called a script, and the interpreter executes it.\n",
    "\n",
    "Python is distinguished by its simple and clean syntax. This is not only beneficial when it comes to readability, thus allowing the expense of program maintenance to be reduced, but also because it is an easy-to-learn programming language. In addition, it appears to be an increasingly attractive language for application and scripting development due to its open source nature. \n",
    "\n",
    "Comparatively to other languages, Python is particularly appealing for scientific computing. Alternatives include MATLAB, GNU Octave and R."
   ]
  },
  {
   "cell_type": "markdown",
   "metadata": {},
   "source": [
    "#### EXERCISE:\n",
    "To test the interactive mode, type `1+1` in the cell below, run it (`SHIFT+ENTER`) and see the result:"
   ]
  },
  {
   "cell_type": "code",
   "execution_count": null,
   "metadata": {},
   "outputs": [],
   "source": []
  },
  {
   "cell_type": "markdown",
   "metadata": {},
   "source": [
    "# <div style=\"color:#fbb144\">  2. Python Interfaces </div>\n",
    "\n",
    "The interactive mode can be used to perform simple operations. However, for more complex tasks, the script mode is preferred. This can be done using *Integrated Development Environments* (IDEs), where we can create a script, such as:\n",
    "* [Visual Studio Code](https://code.visualstudio.com/)\n",
    "* [PyCharm](https://www.jetbrains.com/pycharm/)\n",
    "* [Spyder](https://www.spyder-ide.org/)\n",
    "\n",
    "However, the large number of development environment options, and diversity of useful packages is often overwhelming, which has lead to the creation of pre-configured distributions targeted at simplifying the initial package management and deployment. For instance, this notebook was written using the [Anaconda Distribution](https://www.anaconda.com/products/distribution), which has Jupyter Notebook as one of its programs. \n",
    "\n",
    "The **Anaconda Navigator** is a graphical interface to facilitate the management of Python packages and environments and allow easy access to useful developer applications. It has proven to be very useful since it provides thousands of science and machine learning packages through a central cloud-based repository. Furthermore, it presents multiple data management environments capable of being run separately without interfering with each other.\n",
    "\n",
    "<img src=\"https://github.com/PIA-Group/ScientIST-notebooks/blob/master/_Resources/Images/C.Signal_Processing_IMG/c010/anaconda-nav.png?raw=true\" alt=\"anaconda-nav\" border=\"0\" >"
   ]
  },
  {
   "cell_type": "markdown",
   "metadata": {},
   "source": [
    "<div style=\"background:#48ba57;font-family:'arial', monospace; text-align: center; padding: 10px 0; border-radius:10px; width:70%; margin:auto \" >\n",
    "  <span style=\"font-size:20px;position:relative;color:white; \">  Note </span> <br>\n",
    "  <div style=\"background:#9de3a6;font-size:12px\"> \n",
    "    Since we will be using Anaconda Navigator in our classes, it is recommended to install it in your computer.\n",
    "</div>\n",
    "</div>"
   ]
  },
  {
   "cell_type": "markdown",
   "metadata": {},
   "source": [
    "# <div style=\"color:#fbb144\">  3. What is a program? </div>\n",
    "\n",
    "A *program* can be defined as a set of specific instructions to perform some task. Examples of programs include: creating a document file with some text, plotting a function, solving an equation, multiplying two matrices, applying a filter to an image, managing a database, ... the possibilities are endless! The rules and the way we define the structure (i.e., the syntax) of these tasks may differ between programming languages, however there are basic elements that are common:\n",
    "* **Input**: get data from some source (e.g., a text file, a keyboard)\n",
    "* **Output**: the result of the program (e.g., a graph, a file containing results, a vector describing a feature)\n",
    "* **Mathematical operations**: performing mathematical operations (e.g., addition, multiplication, logarithm calculation)\n",
    "* **Looping**: repeating an action (e.g., reading a document line by line)\n",
    "* **Conditionals**: check a condition (e.g., check if a value is an integer)\n",
    "* **Variables and data structures**: store information (e.g., an array containing a signal)\n",
    "\n",
    "To illustrate, let's create a simple program that displays \"Hello, World!\". Note that we use the *print* function to instruct the intepreter to display our phrase on the screen which is enclosed in parentheses. In addition, we have to delimit the characters with quotation marks (single `'` or double `\"`)."
   ]
  },
  {
   "cell_type": "code",
   "execution_count": null,
   "metadata": {},
   "outputs": [],
   "source": [
    "print('Hello, World!')"
   ]
  },
  {
   "cell_type": "markdown",
   "metadata": {},
   "source": [
    "# III. Python Basics\n",
    "<br>\n",
    "<div style=\"width:100%; background:linear-gradient(to right,#FDC86E,#fbb144);font-family:'arial black'; text-align: center; padding: 7px 0; border-radius: 5px 50px; margin-top:-15px\" > </div>"
   ]
  },
  {
   "cell_type": "markdown",
   "metadata": {},
   "source": [
    "# <div style=\"color:#fbb144\">  1. Values and types </div>\n",
    "\n",
    "A *value* is the basic unit of data that a program works with, like a letter, a word or a number. Examples of values are `10`, `5.2` and `'Hello, World!'`. Values can be classified into different *types*, which will influence how programs interact with them. For example:\n",
    "\n",
    "* `'a'`, `'Hello, World!'` and `'100'` are *strings* (str), because they are made of alphanumeric characters enclosed by quotation marks;\n",
    "\n",
    "* `0` and `10` are *integers* (int);\n",
    "\n",
    "* `10.0` and `25.3` are *floats* (flt), because they are numbers with a decimal point (floating-point representation);\n",
    "\n",
    "* `True` and `False` are booleans (bool), and are used to evaluate logical operations.\n",
    "\n",
    "To check what is the value's type you can call `type( )`, with the value inside the parenthesis."
   ]
  },
  {
   "cell_type": "code",
   "execution_count": 117,
   "metadata": {},
   "outputs": [
    {
     "data": {
      "text/plain": [
       "str"
      ]
     },
     "execution_count": 117,
     "metadata": {},
     "output_type": "execute_result"
    }
   ],
   "source": [
    "type('Biomedical Engineering')"
   ]
  },
  {
   "cell_type": "code",
   "execution_count": 118,
   "metadata": {},
   "outputs": [
    {
     "data": {
      "text/plain": [
       "int"
      ]
     },
     "execution_count": 118,
     "metadata": {},
     "output_type": "execute_result"
    }
   ],
   "source": [
    "type(123)"
   ]
  },
  {
   "cell_type": "code",
   "execution_count": 119,
   "metadata": {},
   "outputs": [
    {
     "data": {
      "text/plain": [
       "str"
      ]
     },
     "execution_count": 119,
     "metadata": {},
     "output_type": "execute_result"
    }
   ],
   "source": [
    "type('123')"
   ]
  },
  {
   "cell_type": "code",
   "execution_count": 120,
   "metadata": {},
   "outputs": [
    {
     "data": {
      "text/plain": [
       "float"
      ]
     },
     "execution_count": 120,
     "metadata": {},
     "output_type": "execute_result"
    }
   ],
   "source": [
    "type(3.14)"
   ]
  },
  {
   "cell_type": "code",
   "execution_count": 121,
   "metadata": {},
   "outputs": [
    {
     "data": {
      "text/plain": [
       "bool"
      ]
     },
     "execution_count": 121,
     "metadata": {},
     "output_type": "execute_result"
    }
   ],
   "source": [
    "type(True)"
   ]
  },
  {
   "cell_type": "markdown",
   "metadata": {},
   "source": [
    "We can also check what is the length of strings and other data types by using the function `len( )`. Integers, floats and booleans have no length."
   ]
  },
  {
   "cell_type": "code",
   "execution_count": 106,
   "metadata": {},
   "outputs": [
    {
     "data": {
      "text/plain": [
       "22"
      ]
     },
     "execution_count": 106,
     "metadata": {},
     "output_type": "execute_result"
    }
   ],
   "source": [
    "len('Biomedical Engineering')"
   ]
  },
  {
   "cell_type": "code",
   "execution_count": 107,
   "metadata": {},
   "outputs": [
    {
     "ename": "TypeError",
     "evalue": "object of type 'int' has no len()",
     "output_type": "error",
     "traceback": [
      "\u001b[1;31m---------------------------------------------------------------------------\u001b[0m",
      "\u001b[1;31mTypeError\u001b[0m                                 Traceback (most recent call last)",
      "\u001b[1;32m<ipython-input-107-a95e54e61f62>\u001b[0m in \u001b[0;36m<module>\u001b[1;34m\u001b[0m\n\u001b[1;32m----> 1\u001b[1;33m \u001b[0mlen\u001b[0m\u001b[1;33m(\u001b[0m\u001b[1;36m123\u001b[0m\u001b[1;33m)\u001b[0m\u001b[1;33m\u001b[0m\u001b[1;33m\u001b[0m\u001b[0m\n\u001b[0m",
      "\u001b[1;31mTypeError\u001b[0m: object of type 'int' has no len()"
     ]
    }
   ],
   "source": [
    "len(123)"
   ]
  },
  {
   "cell_type": "markdown",
   "metadata": {},
   "source": [
    "Additionally, we can access each character or element by index using squared brackets `[ index ]`. Note that this is only possible for some data objets, called *subscriptable*, like strings, lists and dictionaries (we will cover them in section IV).\n",
    "\n",
    "In Python, indexing starts with `0`, and `-1` refers to the last element:"
   ]
  },
  {
   "cell_type": "code",
   "execution_count": 122,
   "metadata": {},
   "outputs": [
    {
     "data": {
      "text/plain": [
       "'H'"
      ]
     },
     "execution_count": 122,
     "metadata": {},
     "output_type": "execute_result"
    }
   ],
   "source": [
    "'Hello'[0]"
   ]
  },
  {
   "cell_type": "code",
   "execution_count": 115,
   "metadata": {},
   "outputs": [
    {
     "data": {
      "text/plain": [
       "'o'"
      ]
     },
     "execution_count": 115,
     "metadata": {},
     "output_type": "execute_result"
    }
   ],
   "source": [
    "'Hello'[4]"
   ]
  },
  {
   "cell_type": "code",
   "execution_count": 116,
   "metadata": {},
   "outputs": [
    {
     "data": {
      "text/plain": [
       "'o'"
      ]
     },
     "execution_count": 116,
     "metadata": {},
     "output_type": "execute_result"
    }
   ],
   "source": [
    "'Hello'[-1]"
   ]
  },
  {
   "cell_type": "markdown",
   "metadata": {},
   "source": [
    "<div style=\"background:#946db2;font-family:'arial', monospace; text-align: center; padding: 10px 0; border-radius:10px; width:70%; margin:auto \" >\n",
    "  <span style=\"font-size:20px;position:relative;color:white; \"> Explore </span> <br>\n",
    "  <div style=\"background:#d0b3e6;font-size:12px\"> \n",
    "    Try to check which value types have a defined length in Python, and which are subscriptable. You can add a code cell below by pressing the <b>+</b> symbol in the toolbar.     \n",
    "</div>\n",
    "</div>"
   ]
  },
  {
   "cell_type": "markdown",
   "metadata": {},
   "source": [
    "# <div style=\"color:#fbb144\">  2. Operators </div>\n",
    "\n",
    "Operators are symbols that represent computations and can only be performed with values of the same type. The basic *arithmetic operators* in Python are:\n",
    "\n",
    "* Addition: `+`\n",
    "\n",
    "* Subtraction: `-`\n",
    "\n",
    "* Multiplication: `*`\n",
    "\n",
    "* Division: `/`\n",
    "\n",
    "* Exponentiation: `**`\n",
    "\n",
    "Let's see some examples:"
   ]
  },
  {
   "cell_type": "code",
   "execution_count": 1,
   "metadata": {},
   "outputs": [
    {
     "data": {
      "text/plain": [
       "25"
      ]
     },
     "execution_count": 1,
     "metadata": {},
     "output_type": "execute_result"
    }
   ],
   "source": [
    "20+5"
   ]
  },
  {
   "cell_type": "code",
   "execution_count": 2,
   "metadata": {},
   "outputs": [
    {
     "data": {
      "text/plain": [
       "1.5"
      ]
     },
     "execution_count": 2,
     "metadata": {},
     "output_type": "execute_result"
    }
   ],
   "source": [
    "90/60"
   ]
  },
  {
   "cell_type": "code",
   "execution_count": 3,
   "metadata": {},
   "outputs": [
    {
     "data": {
      "text/plain": [
       "'Hello World!'"
      ]
     },
     "execution_count": 3,
     "metadata": {},
     "output_type": "execute_result"
    }
   ],
   "source": [
    "'Hello'+' World!'"
   ]
  },
  {
   "cell_type": "markdown",
   "metadata": {},
   "source": [
    "Note that with string values, the '+' operation results in joining both strings, which is called *concatenation*. \n",
    "\n",
    "And what if we try an operation with two different value types?"
   ]
  },
  {
   "cell_type": "code",
   "execution_count": null,
   "metadata": {},
   "outputs": [],
   "source": [
    "1+'Hello'"
   ]
  },
  {
   "cell_type": "markdown",
   "metadata": {},
   "source": [
    "We get an error message. In this case it is a TypeError indicating that is not possible to add an integer and a string together."
   ]
  },
  {
   "cell_type": "markdown",
   "metadata": {},
   "source": [
    "There are also *comparison operators* that return logical values (True or False):\n",
    "\n",
    "* Less than: `<` \n",
    "* Less than or equal to: `<=`\n",
    "* Greater than: `>` \n",
    "* Greater than or equal to: `>=`\n",
    "* Equal to: `==`\n",
    "* Not equal to: `!=`\n",
    "\n",
    "Some examples:"
   ]
  },
  {
   "cell_type": "code",
   "execution_count": null,
   "metadata": {},
   "outputs": [],
   "source": [
    "1<10"
   ]
  },
  {
   "cell_type": "code",
   "execution_count": null,
   "metadata": {},
   "outputs": [],
   "source": [
    "'Python' == 'Python'"
   ]
  },
  {
   "cell_type": "code",
   "execution_count": null,
   "metadata": {},
   "outputs": [],
   "source": [
    "'10' == 10"
   ]
  },
  {
   "cell_type": "markdown",
   "metadata": {},
   "source": [
    "Another important set of operators are the *logical operators*:\n",
    "\n",
    "* `and`: True if both statements are true;\n",
    "\n",
    "* `or`: True if at least one statement is true;\n",
    "\n",
    "* `not`: True if the statement is false."
   ]
  },
  {
   "cell_type": "code",
   "execution_count": null,
   "metadata": {},
   "outputs": [],
   "source": [
    "1==1 and 2<3"
   ]
  },
  {
   "cell_type": "code",
   "execution_count": null,
   "metadata": {},
   "outputs": [],
   "source": [
    "1==10 or 2<3"
   ]
  },
  {
   "cell_type": "code",
   "execution_count": null,
   "metadata": {},
   "outputs": [],
   "source": [
    "not 1==2"
   ]
  },
  {
   "cell_type": "markdown",
   "metadata": {},
   "source": [
    "<div style=\"background:#946db2;font-family:'arial', monospace; text-align: center; padding: 10px 0; border-radius:10px; width:70%; margin:auto \" >\n",
    "  <span style=\"font-size:20px;position:relative;color:white; \"> Explore </span> <br>\n",
    "  <div style=\"background:#d0b3e6;font-size:12px\"> \n",
    "    Try to perform basic computations with arithmetic, comparison and logical operators. You can add a code cell below by pressing the '+' symbol in the toolbar.     \n",
    "</div>\n",
    "</div>"
   ]
  },
  {
   "cell_type": "markdown",
   "metadata": {},
   "source": [
    "# <div style=\"color:#fbb144\">  3. Variables </div>\n",
    "\n",
    "One of the most useful features of a programming language is to work with variables. A variable is an object that refers to a value, allowing us to store information and make operations with. In Python, to create a variable, we don't need to declare it beforehand nor to define its type, it is created the moment we assign it to a value.\n",
    "\n",
    "A variable is identified by its name, which can contain letters (e.g., `var`), numbers (e.g., `var1`) and the underscore character (e.g., `var_1`). However, remember that it must begin with a letter, it can't have spaces, and it is case sensitive.\n",
    "\n",
    "Let's create two variables `x` and `y` and assign them values:"
   ]
  },
  {
   "cell_type": "code",
   "execution_count": null,
   "metadata": {},
   "outputs": [],
   "source": [
    "x = 2"
   ]
  },
  {
   "cell_type": "code",
   "execution_count": null,
   "metadata": {},
   "outputs": [],
   "source": [
    "y = 10"
   ]
  },
  {
   "cell_type": "markdown",
   "metadata": {},
   "source": [
    "Note that there is no output, since we are simply making a *variable assignment*. We can now make operations with these variables:"
   ]
  },
  {
   "cell_type": "code",
   "execution_count": null,
   "metadata": {},
   "outputs": [],
   "source": [
    "print(y/x)"
   ]
  },
  {
   "cell_type": "markdown",
   "metadata": {},
   "source": [
    "Or even create a new variable using a combination of other variables and values:"
   ]
  },
  {
   "cell_type": "code",
   "execution_count": null,
   "metadata": {},
   "outputs": [],
   "source": [
    "z = x + y/2"
   ]
  },
  {
   "cell_type": "code",
   "execution_count": null,
   "metadata": {},
   "outputs": [],
   "source": [
    "print(z)"
   ]
  },
  {
   "cell_type": "markdown",
   "metadata": {},
   "source": [
    "Variables can also be updated (i.e., change its value):"
   ]
  },
  {
   "cell_type": "code",
   "execution_count": null,
   "metadata": {},
   "outputs": [],
   "source": [
    "print(x)"
   ]
  },
  {
   "cell_type": "code",
   "execution_count": null,
   "metadata": {},
   "outputs": [],
   "source": [
    "x = 5"
   ]
  },
  {
   "cell_type": "code",
   "execution_count": null,
   "metadata": {},
   "outputs": [],
   "source": [
    "print(x)"
   ]
  },
  {
   "cell_type": "markdown",
   "metadata": {},
   "source": [
    "Using *casting*, it is possible to specifiy the value type of a variable:"
   ]
  },
  {
   "cell_type": "code",
   "execution_count": null,
   "metadata": {},
   "outputs": [],
   "source": [
    "a = int(2)\n",
    "print(a)\n",
    "print(type(a))"
   ]
  },
  {
   "cell_type": "code",
   "execution_count": null,
   "metadata": {},
   "outputs": [],
   "source": [
    "b = str(2)\n",
    "print(b)\n",
    "print(type(b))"
   ]
  },
  {
   "cell_type": "code",
   "execution_count": 107,
   "metadata": {},
   "outputs": [
    {
     "name": "stdout",
     "output_type": "stream",
     "text": [
      "2.0\n",
      "<class 'float'>\n"
     ]
    }
   ],
   "source": [
    "c = float(2)\n",
    "print(c)\n",
    "print(type(c))"
   ]
  },
  {
   "cell_type": "markdown",
   "metadata": {},
   "source": [
    "Variables can be removed from memory using the keyword **del**:"
   ]
  },
  {
   "cell_type": "code",
   "execution_count": 108,
   "metadata": {},
   "outputs": [
    {
     "data": {
      "text/plain": [
       "2.0"
      ]
     },
     "execution_count": 108,
     "metadata": {},
     "output_type": "execute_result"
    }
   ],
   "source": [
    "c"
   ]
  },
  {
   "cell_type": "code",
   "execution_count": 109,
   "metadata": {},
   "outputs": [],
   "source": [
    "del c"
   ]
  },
  {
   "cell_type": "code",
   "execution_count": 110,
   "metadata": {},
   "outputs": [
    {
     "ename": "NameError",
     "evalue": "name 'c' is not defined",
     "output_type": "error",
     "traceback": [
      "\u001b[1;31m---------------------------------------------------------------------------\u001b[0m",
      "\u001b[1;31mNameError\u001b[0m                                 Traceback (most recent call last)",
      "\u001b[1;32m<ipython-input-110-2b66fd261ee5>\u001b[0m in \u001b[0;36m<module>\u001b[1;34m\u001b[0m\n\u001b[1;32m----> 1\u001b[1;33m \u001b[0mc\u001b[0m\u001b[1;33m\u001b[0m\u001b[1;33m\u001b[0m\u001b[0m\n\u001b[0m",
      "\u001b[1;31mNameError\u001b[0m: name 'c' is not defined"
     ]
    }
   ],
   "source": [
    "c"
   ]
  },
  {
   "cell_type": "markdown",
   "metadata": {},
   "source": [
    "<div style=\"background:#48ba57;font-family:'arial', monospace; text-align: center; padding: 10px 0; border-radius:10px; width:70%; margin:auto \" >\n",
    "  <span style=\"font-size:20px;position:relative;color:white; \">  Note </span> <br>\n",
    "  <div style=\"background:#9de3a6;font-size:12px\"> \n",
    "    Note that we can write multiple lines of code in each cell, where each line corresponds to a new expression or statement. In Python, we can simply press Enter to start a new line of code. The output of the statements will follow the same order.\n",
    "</div>\n",
    "</div>"
   ]
  },
  {
   "cell_type": "markdown",
   "metadata": {},
   "source": [
    "<div style=\"background:#fbb144;font-family:'arial', monospace; text-align: center; padding: 10px 0; border-radius:10px; width:70%; margin:auto \" >\n",
    "  <span style=\"font-size:20px;position:relative;color:white; \">  Warning! </span> <br>\n",
    "  <div style=\"background:#ffd08a;font-size:12px\"> \n",
    "    Some names are exclusive of Python keywords, which cannot be used to name variables. Examples of such keywords include: <b> class, True, False, None, and, or, not, if, else, with, while, for, return, from, import, is, continue, break </b>. You can access the whole list by typing: <i>import keyword; keyword.kwlist</i>\n",
    "    </div>\n",
    "</div>"
   ]
  },
  {
   "cell_type": "markdown",
   "metadata": {},
   "source": [
    "#### EXERCISE:\n",
    "1. Create a variable named `first`, assigning the value `'Hello'` to it. Then, create the variable `second` with value `Python`."
   ]
  },
  {
   "cell_type": "code",
   "execution_count": null,
   "metadata": {},
   "outputs": [],
   "source": []
  },
  {
   "cell_type": "code",
   "execution_count": null,
   "metadata": {},
   "outputs": [],
   "source": []
  },
  {
   "cell_type": "markdown",
   "metadata": {},
   "source": [
    "2. Using the variables `first` and `second`, previously defined, create an operation that allows you to print the phrase \"Hello Python!\" (space and exclamation point included)."
   ]
  },
  {
   "cell_type": "code",
   "execution_count": null,
   "metadata": {},
   "outputs": [],
   "source": []
  },
  {
   "cell_type": "markdown",
   "metadata": {},
   "source": [
    "# <div style=\"color:#fbb144\">  4. Comments </div>\n",
    "\n",
    "When writing a program, and especially if it gets big and complex, it is useful to write notes or comments that allows anyone to read and understand what the different steps of the program do. In Python, comments start by the `#` symbol, and the interpreter ignores what comes right after."
   ]
  },
  {
   "cell_type": "code",
   "execution_count": null,
   "metadata": {},
   "outputs": [],
   "source": [
    "# This is a comment\n",
    "print('Hello, World!')"
   ]
  },
  {
   "cell_type": "code",
   "execution_count": null,
   "metadata": {},
   "outputs": [],
   "source": [
    "print('Hello, World!') # This is a comment"
   ]
  },
  {
   "cell_type": "markdown",
   "metadata": {},
   "source": [
    "Comments can also be used to clarify the meaning of variables, which can be very useful:\n"
   ]
  },
  {
   "cell_type": "code",
   "execution_count": null,
   "metadata": {},
   "outputs": [],
   "source": [
    "d = 100 # distance in meters\n",
    "t = 20 # time in seconds\n",
    "\n",
    "# Compute velocity\n",
    "v = d/t # velocity in meters per second\n",
    "print(v)"
   ]
  },
  {
   "cell_type": "markdown",
   "metadata": {},
   "source": [
    "<div style=\"background:#fbb144;font-family:'arial', monospace; text-align: center; padding: 10px 0; border-radius:10px; width:70%; margin:auto \" >\n",
    "  <span style=\"font-size:20px;position:relative;color:white; \">  Warning! </span> <br>\n",
    "  <div style=\"background:#ffd08a;font-size:12px\"> \n",
    "    Comments should be short and straight to the point. They should not state obvious operations or be redundant. Also, when explaining the meaning of your variables, try to compromise between an explicit variable name and it's length. Check <a href=\"https://realpython.com/python-comments-guide/\">this</a> article.\n",
    "    </div>\n",
    "</div>"
   ]
  },
  {
   "cell_type": "markdown",
   "metadata": {},
   "source": [
    "Here are some examples of comment practices that **should be avoided**:"
   ]
  },
  {
   "cell_type": "code",
   "execution_count": null,
   "metadata": {},
   "outputs": [],
   "source": [
    "print('Hello') # prints Hello"
   ]
  },
  {
   "cell_type": "code",
   "execution_count": null,
   "metadata": {},
   "outputs": [],
   "source": [
    "d = 100 # assign 100 to d"
   ]
  },
  {
   "cell_type": "code",
   "execution_count": null,
   "metadata": {},
   "outputs": [],
   "source": [
    "# count variable\n",
    "count = 0"
   ]
  },
  {
   "cell_type": "code",
   "execution_count": null,
   "metadata": {},
   "outputs": [],
   "source": [
    "# Compute and print velocity\n",
    "v = d/t # compute velocity, defined as the quotient between the displacement d and the elapsed time t\n",
    "print(v) # prints the velocity in the console"
   ]
  },
  {
   "cell_type": "markdown",
   "metadata": {},
   "source": [
    "# <div style=\"color:#fbb144\">  5. Functions </div>\n",
    "\n",
    "<img src=\"https://runestone.academy/ns/books/published/fopp/_images/function_calls.gif\" alt=\"function_calls\" width=200 border=\"0\" >\n",
    "\n",
    "<p style= text-align:right> Reference: <a href=\"https://runestone.academy\">Runestone Academy</a> </p>\n",
    "\n",
    "When writing a program, we can define *functions* to perform a whole sequence of operations, and return a result when called. This helps us to better manage and organize our program in its different steps. Note that functions can receive more than one input (called arguments). To create a function in Python, we need to follow this structure:\n",
    "\n",
    "\n",
    "```python\n",
    "def MY_FUNCTION(a, b, c):\n",
    "    # do something\n",
    "    \n",
    "    return # return something\n",
    "```\n",
    "\n",
    "The different elements are:\n",
    "* `def`: to declare we are creating a function\n",
    "\n",
    "* `MY_FUNCTION`: to give our function a name\n",
    "\n",
    "* `(a, b, c)`: to provide the list of desired inputs (also called *arguments*), which are separated by commas\n",
    "\n",
    "* `# do something`: to define what operations are made with the arguments\n",
    "\n",
    "* `return`: to declare the output of the function\n",
    "\n"
   ]
  },
  {
   "cell_type": "markdown",
   "metadata": {},
   "source": [
    "<div style=\"background:#48ba57;font-family:'arial', monospace; text-align: center; padding: 10px 0; border-radius:10px; width:70%; margin:auto \" >\n",
    "  <span style=\"font-size:20px;position:relative;color:white; \">  Note </span> <br>\n",
    "  <div style=\"background:#9de3a6;font-size:12px\"> \n",
    "    Normally the programming environment will automatically stylize the text (color, bold, italic, ...) to make it easier to read. Also note that in Python we need to be very careful with the spaces at the beggining of a code line, which is called <b>identation</b>.    \n",
    "</div>\n",
    "</div>"
   ]
  },
  {
   "cell_type": "markdown",
   "metadata": {},
   "source": [
    "Now let's try creating a function called `mean` that receives two numbers `x` and `y`(the input) and returns their arithmetic mean (the output)."
   ]
  },
  {
   "cell_type": "code",
   "execution_count": null,
   "metadata": {},
   "outputs": [],
   "source": [
    "def mean(x, y):\n",
    "    \n",
    "    return (x+y)/2"
   ]
  },
  {
   "cell_type": "markdown",
   "metadata": {},
   "source": [
    "We can test this function by using two numbers of our choice by replacing `x` and `y`:"
   ]
  },
  {
   "cell_type": "code",
   "execution_count": null,
   "metadata": {},
   "outputs": [],
   "source": [
    "print(mean(10, 20))"
   ]
  },
  {
   "cell_type": "markdown",
   "metadata": {},
   "source": [
    "#### EXERCISE:\n",
    "Try to create a function called ```temp_in_F``` that receives a temperature in Celsius and returns the temperature in Fahrenheit, according to the following formula:\n",
    "\n",
    "$$\n",
    "T_F = \\frac{9}{5}\\times T_c + 32\n",
    "$$"
   ]
  },
  {
   "cell_type": "code",
   "execution_count": null,
   "metadata": {},
   "outputs": [],
   "source": []
  },
  {
   "cell_type": "markdown",
   "metadata": {},
   "source": [
    "Check if $150ºC$ corresponds to $302ºF$:"
   ]
  },
  {
   "cell_type": "code",
   "execution_count": null,
   "metadata": {},
   "outputs": [],
   "source": [
    "print(temp_in_F(150))"
   ]
  },
  {
   "cell_type": "markdown",
   "metadata": {},
   "source": [
    "# IV. Python Data Structures: Lists and Dictionaries\n",
    "<br>\n",
    "<div class='h1'  style=\"width:100%; background:linear-gradient(to right,#FDC86E,#fbb144);font-family:'arial black'; text-align: center; padding: 7px 0; border-radius: 5px 50px;margin-top:-15px\" > </div>"
   ]
  },
  {
   "cell_type": "markdown",
   "metadata": {},
   "source": [
    "Python has 4 built-in data types to store collections of data: *lists*, *dictionaries*, *tuples* and *sets*. In this notebook we will cover the main features of lists and dictionaries."
   ]
  },
  {
   "cell_type": "markdown",
   "metadata": {},
   "source": [
    "# <div style=\"color:#fbb144\">  1. Lists </div>\n",
    "\n",
    "Lists are data structures that can have multiple elements inside. They are created by placing its elements between squared brackets `[ ]` separated by commas. Lists are very versatile because they can contain any kind of object inside, like strings, floats, and other lists. \n",
    "\n",
    "Note that **list** is a Python built-in type, and should not be used as a variable name."
   ]
  },
  {
   "cell_type": "code",
   "execution_count": 43,
   "metadata": {},
   "outputs": [
    {
     "name": "stdout",
     "output_type": "stream",
     "text": [
      "[]\n"
     ]
    }
   ],
   "source": [
    "list_a = [] # empty list\n",
    "print(list_a)"
   ]
  },
  {
   "cell_type": "code",
   "execution_count": 45,
   "metadata": {},
   "outputs": [
    {
     "name": "stdout",
     "output_type": "stream",
     "text": [
      "[1, 2, 3]\n"
     ]
    }
   ],
   "source": [
    "list_b = [1, 2, 3]\n",
    "print(list_b)"
   ]
  },
  {
   "cell_type": "markdown",
   "metadata": {},
   "source": [
    "Like strings, we can concatenate lists with the `+` operator, check their length with `len( )`, and access its items by index using squared brackets:"
   ]
  },
  {
   "cell_type": "code",
   "execution_count": 49,
   "metadata": {},
   "outputs": [
    {
     "name": "stdout",
     "output_type": "stream",
     "text": [
      "[1, 2, 3, 4, 5, 6]\n"
     ]
    }
   ],
   "source": [
    "list_c = [4, 5, 6]\n",
    "list_d = list_b + list_c\n",
    "print(list_d)"
   ]
  },
  {
   "cell_type": "code",
   "execution_count": 50,
   "metadata": {},
   "outputs": [
    {
     "data": {
      "text/plain": [
       "6"
      ]
     },
     "execution_count": 50,
     "metadata": {},
     "output_type": "execute_result"
    }
   ],
   "source": [
    "len(list_d)"
   ]
  },
  {
   "cell_type": "code",
   "execution_count": 51,
   "metadata": {},
   "outputs": [
    {
     "data": {
      "text/plain": [
       "1"
      ]
     },
     "execution_count": 51,
     "metadata": {},
     "output_type": "execute_result"
    }
   ],
   "source": [
    "list_d[0]"
   ]
  },
  {
   "cell_type": "markdown",
   "metadata": {},
   "source": [
    "It is also possible to access a section of the list by using the notation `[i:j]`, where we select the items from index $i$ (inclusive) to $j$ (exclusive). See some of the examples below:"
   ]
  },
  {
   "cell_type": "code",
   "execution_count": 24,
   "metadata": {},
   "outputs": [
    {
     "data": {
      "text/plain": [
       "[1, 2, 3, 4]"
      ]
     },
     "execution_count": 24,
     "metadata": {},
     "output_type": "execute_result"
    }
   ],
   "source": [
    "list_d[0:4] # select the first 4 elements (indexes 0, 1, 2 and 3)"
   ]
  },
  {
   "cell_type": "code",
   "execution_count": 28,
   "metadata": {},
   "outputs": [
    {
     "data": {
      "text/plain": [
       "[1]"
      ]
     },
     "execution_count": 28,
     "metadata": {},
     "output_type": "execute_result"
    }
   ],
   "source": [
    "list_d[0:1] # select the 1st element"
   ]
  },
  {
   "cell_type": "code",
   "execution_count": 52,
   "metadata": {},
   "outputs": [
    {
     "data": {
      "text/plain": [
       "[]"
      ]
     },
     "execution_count": 52,
     "metadata": {},
     "output_type": "execute_result"
    }
   ],
   "source": [
    "list_d[1:1]"
   ]
  },
  {
   "cell_type": "code",
   "execution_count": 31,
   "metadata": {},
   "outputs": [
    {
     "data": {
      "text/plain": [
       "[1, 2, 3, 4, 5, 6]"
      ]
     },
     "execution_count": 31,
     "metadata": {},
     "output_type": "execute_result"
    }
   ],
   "source": [
    "list_d[0:len(list_d)] "
   ]
  },
  {
   "cell_type": "code",
   "execution_count": 27,
   "metadata": {},
   "outputs": [
    {
     "data": {
      "text/plain": [
       "[2, 3, 4, 5, 6]"
      ]
     },
     "execution_count": 27,
     "metadata": {},
     "output_type": "execute_result"
    }
   ],
   "source": [
    "list_d[1:] "
   ]
  },
  {
   "cell_type": "markdown",
   "metadata": {},
   "source": [
    "Lists can contain other value types, and they can also be heterogenous:"
   ]
  },
  {
   "cell_type": "code",
   "execution_count": 33,
   "metadata": {},
   "outputs": [],
   "source": [
    "f = ['a', 'b', 'c']"
   ]
  },
  {
   "cell_type": "code",
   "execution_count": 59,
   "metadata": {},
   "outputs": [],
   "source": [
    "g = [1,2,'a'] # it contains int and str values"
   ]
  },
  {
   "cell_type": "code",
   "execution_count": 61,
   "metadata": {},
   "outputs": [
    {
     "data": {
      "text/plain": [
       "['a', 'b', 'c', 1, 2, 'a']"
      ]
     },
     "execution_count": 61,
     "metadata": {},
     "output_type": "execute_result"
    }
   ],
   "source": [
    "h = f + g\n",
    "h"
   ]
  },
  {
   "cell_type": "code",
   "execution_count": 62,
   "metadata": {},
   "outputs": [
    {
     "data": {
      "text/plain": [
       "[1, [1, 2], 'hello']"
      ]
     },
     "execution_count": 62,
     "metadata": {},
     "output_type": "execute_result"
    }
   ],
   "source": [
    "i = [1,[1, 2], 'hello'] # there is a list inside a list\n",
    "i"
   ]
  },
  {
   "cell_type": "code",
   "execution_count": 63,
   "metadata": {},
   "outputs": [
    {
     "data": {
      "text/plain": [
       "[1, 2]"
      ]
     },
     "execution_count": 63,
     "metadata": {},
     "output_type": "execute_result"
    }
   ],
   "source": [
    "i[1]"
   ]
  },
  {
   "cell_type": "markdown",
   "metadata": {},
   "source": [
    "Lists have several methods that we can work with. Some examples are:\n",
    "\n",
    "* `append()`\n",
    "\n",
    "* `insert()`\n",
    "\n",
    "* `remove()`\n",
    "\n",
    "* `pop()`\n",
    "\n",
    "* `sort()`\n",
    "\n",
    "* `copy()`\n",
    "\n",
    "To use them, we use the dot notation:\n",
    "\n",
    "```python\n",
    "list_name.method_name(arguments)\n",
    "```\n",
    "\n",
    "To check which methods are available when writing code, you can press **Tab** after typing the dot `.` (this also works for searching packages). Another option is to type: \n",
    "\n",
    "```python\n",
    "dir(list)\n",
    "```"
   ]
  },
  {
   "cell_type": "code",
   "execution_count": 112,
   "metadata": {},
   "outputs": [],
   "source": [
    "list_1 = [20, 10, 15, 5, 1]\n",
    "list_1.sort()"
   ]
  },
  {
   "cell_type": "code",
   "execution_count": 113,
   "metadata": {},
   "outputs": [
    {
     "data": {
      "text/plain": [
       "[1, 5, 10, 15, 20]"
      ]
     },
     "execution_count": 113,
     "metadata": {},
     "output_type": "execute_result"
    }
   ],
   "source": [
    "list_1"
   ]
  },
  {
   "cell_type": "markdown",
   "metadata": {},
   "source": [
    "<div style=\"background:#946db2;font-family:'arial', monospace; text-align: center; padding: 10px 0; border-radius:10px; width:70%; margin:auto \" >\n",
    "  <span style=\"font-size:20px;position:relative;color:white; \"> Explore </span> <br>\n",
    "  <div style=\"background:#d0b3e6;font-size:12px\"> \n",
    "      To find more about <b>lists</b> and associated methods consult Python's <a documentation href=\"https://docs.python.org/3/tutorial/datastructures.html\">here</a>. Alternatively, check Programiz's page on Python lists <a href=\"https://www.programiz.com/python-programming/list\">here</a>.\n",
    "</div>"
   ]
  },
  {
   "cell_type": "markdown",
   "metadata": {},
   "source": [
    "# <div style=\"color:#fbb144\">  2. Dictionaries </div>\n",
    "\n",
    "*Dictionaries* are another python datatype that can be very useful. Unlike lists, they are not defined by number indexes. Instead, dictionaries are indexed by keys (i.e., a label), with a value inside. They are written with curly brackets `{ }` and their elements follow the format `key: value`, separated by commas."
   ]
  },
  {
   "cell_type": "code",
   "execution_count": 64,
   "metadata": {},
   "outputs": [
    {
     "data": {
      "text/plain": [
       "{}"
      ]
     },
     "execution_count": 64,
     "metadata": {},
     "output_type": "execute_result"
    }
   ],
   "source": [
    "dict_a = {} # empty dictionary\n",
    "dict_a"
   ]
  },
  {
   "cell_type": "code",
   "execution_count": 72,
   "metadata": {},
   "outputs": [
    {
     "data": {
      "text/plain": [
       "{'key_1': 123, 'key_2': 'hello', 'key_3': [1, 2, 3]}"
      ]
     },
     "execution_count": 72,
     "metadata": {},
     "output_type": "execute_result"
    }
   ],
   "source": [
    "dict_b = {'key_1': 123, 'key_2': 'hello', 'key_3': [1,2,3]}\n",
    "dict_b"
   ]
  },
  {
   "cell_type": "markdown",
   "metadata": {},
   "source": [
    "We cannot access a dictionary's items by index. To access a key and view its contents, we can use squared brackets with the key string inside `[key]`, or call the method `.get( )`:"
   ]
  },
  {
   "cell_type": "code",
   "execution_count": 74,
   "metadata": {},
   "outputs": [
    {
     "data": {
      "text/plain": [
       "123"
      ]
     },
     "execution_count": 74,
     "metadata": {},
     "output_type": "execute_result"
    }
   ],
   "source": [
    "dict_b['key_1']"
   ]
  },
  {
   "cell_type": "code",
   "execution_count": 75,
   "metadata": {},
   "outputs": [
    {
     "data": {
      "text/plain": [
       "[1, 2, 3]"
      ]
     },
     "execution_count": 75,
     "metadata": {},
     "output_type": "execute_result"
    }
   ],
   "source": [
    "dict_b.get('key_3')"
   ]
  },
  {
   "cell_type": "code",
   "execution_count": 77,
   "metadata": {},
   "outputs": [
    {
     "ename": "KeyError",
     "evalue": "0",
     "output_type": "error",
     "traceback": [
      "\u001b[1;31m---------------------------------------------------------------------------\u001b[0m",
      "\u001b[1;31mKeyError\u001b[0m                                  Traceback (most recent call last)",
      "\u001b[1;32m<ipython-input-77-348ce9da501e>\u001b[0m in \u001b[0;36m<module>\u001b[1;34m\u001b[0m\n\u001b[1;32m----> 1\u001b[1;33m \u001b[0mdict_b\u001b[0m\u001b[1;33m[\u001b[0m\u001b[1;36m0\u001b[0m\u001b[1;33m]\u001b[0m \u001b[1;31m# doesn't work\u001b[0m\u001b[1;33m\u001b[0m\u001b[1;33m\u001b[0m\u001b[0m\n\u001b[0m",
      "\u001b[1;31mKeyError\u001b[0m: 0"
     ]
    }
   ],
   "source": [
    "dict_b[0] # doesn't work"
   ]
  },
  {
   "cell_type": "markdown",
   "metadata": {},
   "source": [
    "To update a dictionary, we simply have to redefine its key:value pair and, if there is no matching key, the pair is added to the dictionary:"
   ]
  },
  {
   "cell_type": "code",
   "execution_count": 78,
   "metadata": {},
   "outputs": [
    {
     "data": {
      "text/plain": [
       "{'key_1': 123, 'key_2': 'hello', 'key_3': [1, 2, 3]}"
      ]
     },
     "execution_count": 78,
     "metadata": {},
     "output_type": "execute_result"
    }
   ],
   "source": [
    "dict_b"
   ]
  },
  {
   "cell_type": "code",
   "execution_count": 83,
   "metadata": {},
   "outputs": [
    {
     "data": {
      "text/plain": [
       "{'key_1': 'Python', 'key_2': 'hello', 'key_3': [1, 2, 3], 'key_4': [4, 5, 6]}"
      ]
     },
     "execution_count": 83,
     "metadata": {},
     "output_type": "execute_result"
    }
   ],
   "source": [
    "dict_b['key_1'] =  'Python' # rewrite a value\n",
    "dict_b"
   ]
  },
  {
   "cell_type": "code",
   "execution_count": 84,
   "metadata": {},
   "outputs": [
    {
     "data": {
      "text/plain": [
       "{'key_1': 'Python', 'key_2': 'hello', 'key_3': [1, 2, 3], 'key_4': [4, 5, 6]}"
      ]
     },
     "execution_count": 84,
     "metadata": {},
     "output_type": "execute_result"
    }
   ],
   "source": [
    "dict_b['key_4'] = [4, 5, 6] # add a new key with a value\n",
    "dict_b"
   ]
  },
  {
   "cell_type": "markdown",
   "metadata": {},
   "source": [
    "Some dictionary methods include:\n",
    "\n",
    "* `clear()`\n",
    "\n",
    "* `get(key)`\n",
    "\n",
    "* `pop(key)`\n",
    "\n",
    "* `update([other])`\n",
    "\n",
    "* `keys()`\n",
    "\n",
    "* `values()`"
   ]
  },
  {
   "cell_type": "markdown",
   "metadata": {},
   "source": [
    "<div style=\"background:#946db2;font-family:'arial', monospace; text-align: center; padding: 10px 0; border-radius:10px; width:70%; margin:auto \" >\n",
    "  <span style=\"font-size:20px;position:relative;color:white; \"> Explore </span> <br>\n",
    "  <div style=\"background:#d0b3e6;font-size:12px\"> \n",
    "      To find more about <b>dictionaries</b> and its methods consult Python's documentation <a href=\"https://docs.python.org/3/tutorial/datastructures.html#dictionaries\">here</a> and <a href=\"https://docs.python.org/3/library/stdtypes.html#typesmapping\">here</a>. Alternatively, check Programiz's <a href=\"https://programiz.com/python-programming/dictionary\">page</a> on Python programming.\n",
    "</div>"
   ]
  },
  {
   "cell_type": "markdown",
   "metadata": {},
   "source": [
    "#### EXERCISE:\n",
    "\n",
    "1. Create a dictionary called `my_dict` with the keys 'Name', 'Age', 'IST_ID' and 'Course' and add the corresponding values with your data."
   ]
  },
  {
   "cell_type": "code",
   "execution_count": null,
   "metadata": {},
   "outputs": [],
   "source": []
  },
  {
   "cell_type": "markdown",
   "metadata": {},
   "source": [
    "2. Without creating a new dictionary, delete the key 'Name' and add the keys 'First Name' and 'Last Name', associating the corresponding values. "
   ]
  },
  {
   "cell_type": "code",
   "execution_count": null,
   "metadata": {},
   "outputs": [],
   "source": []
  },
  {
   "cell_type": "markdown",
   "metadata": {},
   "source": [
    "# V. Python Flow Control\n",
    "<br>\n",
    "<div class='h1'  style=\"width:100%; background:linear-gradient(to right,#FDC86E,#fbb144);font-family:'arial black'; text-align: center; padding: 7px 0; border-radius: 5px 50px;margin-top:-15px\" > </div>"
   ]
  },
  {
   "cell_type": "markdown",
   "metadata": {},
   "source": [
    "One of the most important tools to build complex programs is to control what the program does in specific scenarios. There are two main types of flow control: *conditional* and *loops*."
   ]
  },
  {
   "cell_type": "markdown",
   "metadata": {},
   "source": [
    "# <div style=\"color:#fbb144\">  1. Conditional Statements </div>"
   ]
  },
  {
   "cell_type": "code",
   "execution_count": null,
   "metadata": {},
   "outputs": [],
   "source": []
  },
  {
   "cell_type": "markdown",
   "metadata": {},
   "source": [
    "# <div style=\"color:#fbb144\">  2. Loops </div>"
   ]
  },
  {
   "cell_type": "code",
   "execution_count": null,
   "metadata": {},
   "outputs": [],
   "source": []
  },
  {
   "cell_type": "markdown",
   "metadata": {},
   "source": [
    "# VI. Python Packages and Libraries\n",
    "<br>\n",
    "<div class='h1'  style=\"width:100%; background:linear-gradient(to right,#FDC86E,#fbb144);font-family:'arial black'; text-align: center; padding: 7px 0; border-radius: 5px 50px;margin-top:-15px\" > </div>"
   ]
  },
  {
   "cell_type": "markdown",
   "metadata": {},
   "source": [
    "A *package* is  ...."
   ]
  },
  {
   "cell_type": "markdown",
   "metadata": {},
   "source": [
    "# <div style=\"color:#fbb144\">  1. How to install a package </div>\n",
    "\n",
    "Packages are a very practical tool for numerous purposes. In order to install them, two main options can be used.\t\n",
    "\n",
    "* **Python Package Index (PyPI)**\n",
    "\n",
    "PyPI is a repository of software for the Python programming language. It enables an easy access to packages shared by the Python Community. \n",
    "\n",
    " **pip** is the package installer which usually is automatically installed with Python. One has to only make sure it is updated, in which case the website [pip update](https://datatofish.com/upgrade-pip/) is very illustrative.\n",
    " \n",
    "Installing a package only takes writing:"
   ]
  },
  {
   "cell_type": "code",
   "execution_count": null,
   "metadata": {},
   "outputs": [],
   "source": [
    "!pip install package_name"
   ]
  },
  {
   "cell_type": "markdown",
   "metadata": {},
   "source": [
    "* **Anaconda Navigator**\n",
    "\n",
    "The Anaconda Navigator **Environments** tab has the list of every installed and uninstalled package plus it is possible to install them, as ilustrated:\n",
    "\n",
    "\n",
    "\n",
    "<img src=\"https://github.com/PIA-Group/ScientIST-notebooks/blob/master/_Resources/Images/C.Signal_Processing_IMG/c010/Install-packages.gif?raw=true\" alt=\"Install-packages\" border=\"0\" width=\"700\" /></a>\n",
    "\n",
    "\n",
    "An alternative is to type in the console: \n",
    "```python \n",
    "conda install package_name\n",
    "```"
   ]
  },
  {
   "cell_type": "markdown",
   "metadata": {},
   "source": [
    "# <div style=\"color:#fbb144\">  2. How to import and use a package </div>\n",
    "\n",
    "Even after installing a library, we still need to import the package to our Python environment. To do this we use the keyword **import**:\n",
    "\n",
    "```python\n",
    "import package_name\n",
    "```\n",
    "\n",
    "We will exemplify with the math *module*, which is always available in Python and gives access to several mathematical functions and numbers (e.g, the numbers $\\pi$ and $e$, the logarithm function). Since this module is built-in, we don't need to call a package."
   ]
  },
  {
   "cell_type": "code",
   "execution_count": 178,
   "metadata": {},
   "outputs": [
    {
     "data": {
      "text/plain": [
       "<module 'math' (built-in)>"
      ]
     },
     "execution_count": 178,
     "metadata": {},
     "output_type": "execute_result"
    }
   ],
   "source": [
    "math"
   ]
  },
  {
   "cell_type": "code",
   "execution_count": 179,
   "metadata": {},
   "outputs": [],
   "source": [
    "import math"
   ]
  },
  {
   "cell_type": "markdown",
   "metadata": {},
   "source": [
    "To have access to the module's objects we can use the `dir( )` method:"
   ]
  },
  {
   "cell_type": "code",
   "execution_count": 186,
   "metadata": {},
   "outputs": [
    {
     "name": "stdout",
     "output_type": "stream",
     "text": [
      "['__doc__', '__loader__', '__name__', '__package__', '__spec__', 'acos', 'acosh', 'asin', 'asinh', 'atan', 'atan2', 'atanh', 'ceil', 'comb', 'copysign', 'cos', 'cosh', 'degrees', 'dist', 'e', 'erf', 'erfc', 'exp', 'expm1', 'fabs', 'factorial', 'floor', 'fmod', 'frexp', 'fsum', 'gamma', 'gcd', 'hypot', 'inf', 'isclose', 'isfinite', 'isinf', 'isnan', 'isqrt', 'ldexp', 'lgamma', 'log', 'log10', 'log1p', 'log2', 'modf', 'nan', 'perm', 'pi', 'pow', 'prod', 'radians', 'remainder', 'sin', 'sinh', 'sqrt', 'tan', 'tanh', 'tau', 'trunc'] "
     ]
    }
   ],
   "source": [
    "print(dir(math), end=' ')"
   ]
  },
  {
   "cell_type": "markdown",
   "metadata": {},
   "source": [
    "We can now use it's functionalities using the dot notation (`module_name.object_name`):"
   ]
  },
  {
   "cell_type": "code",
   "execution_count": 128,
   "metadata": {},
   "outputs": [
    {
     "name": "stdout",
     "output_type": "stream",
     "text": [
      "3.141592653589793\n"
     ]
    }
   ],
   "source": [
    "print(math.pi)"
   ]
  },
  {
   "cell_type": "markdown",
   "metadata": {},
   "source": [
    "In this case, calling *pi* will not work:"
   ]
  },
  {
   "cell_type": "code",
   "execution_count": 134,
   "metadata": {},
   "outputs": [
    {
     "name": "stdout",
     "output_type": "stream",
     "text": [
      "3.141592653589793\n"
     ]
    }
   ],
   "source": [
    "print(pi)"
   ]
  },
  {
   "cell_type": "markdown",
   "metadata": {},
   "source": [
    "To import an object from a module and avoid using the dot notation, we can use the keywords **from** and **import**:\n",
    "```python\n",
    "from module_name import object_name\n",
    "```"
   ]
  },
  {
   "cell_type": "code",
   "execution_count": 135,
   "metadata": {},
   "outputs": [],
   "source": [
    "from math import pi\n",
    "print(pi)"
   ]
  },
  {
   "cell_type": "markdown",
   "metadata": {},
   "source": [
    "There are objects that are functions:"
   ]
  },
  {
   "cell_type": "code",
   "execution_count": 176,
   "metadata": {},
   "outputs": [
    {
     "name": "stdout",
     "output_type": "stream",
     "text": [
      "2.0\n"
     ]
    }
   ],
   "source": [
    "value = 100\n",
    "base = 10\n",
    "value_log = math.log(value, base) # compute the logarithm\n",
    "print(value_log)"
   ]
  },
  {
   "cell_type": "markdown",
   "metadata": {},
   "source": [
    "To import all objects, we use `*`:"
   ]
  },
  {
   "cell_type": "code",
   "execution_count": 175,
   "metadata": {},
   "outputs": [
    {
     "name": "stdout",
     "output_type": "stream",
     "text": [
      "2.718281828459045\n"
     ]
    }
   ],
   "source": [
    "from math import *\n",
    "print(e)"
   ]
  },
  {
   "cell_type": "markdown",
   "metadata": {},
   "source": [
    "It is also possible to give a short-name to a package or module by using the keywords **import** and **as**:\n",
    "\n",
    "```python\n",
    "import package_name.module_name as mod # to import the module\n",
    "\n",
    "mod.object # to call the object inside the module\n",
    "```"
   ]
  },
  {
   "cell_type": "markdown",
   "metadata": {},
   "source": [
    "<div style=\"background:#fe9b29;font-family:'arial', monospace; text-align: center; padding: 10px 0; border-radius:10px; width:70%; margin:auto \" >\n",
    "  <span style=\"font-size:20px;position:relative;color:white; \">  Caution! </span> <br>\n",
    "  <div style=\"background:#ffdab0;font-size:12px\"> \n",
    "      When using different packages, be careful about objects that may be imported with the same name. Because of such conflicts, it is advised to use dot notation to call the objects, along with a simplified module name.   \n",
    "</div>\n",
    "</div>"
   ]
  },
  {
   "cell_type": "markdown",
   "metadata": {},
   "source": [
    "To sum up, there are various ways to import packages, modules and its objects:\n",
    "\n",
    "```python\n",
    "import package_name # imports all modules, need to use dot notation to call objects\n",
    "\n",
    "import package_name.module_name # imports one module, need to use dot notation to call objects\n",
    "\n",
    "import package_name.module_name as short_name # imports a module with another name\n",
    "\n",
    "from package_name.module_name import object_name # avoids dot notation to call an object\n",
    "\n",
    "from package_name.module_name import * # avoids dot notation, imports all objects\n",
    "\n",
    "```"
   ]
  },
  {
   "cell_type": "markdown",
   "metadata": {},
   "source": [
    "# <div style=\"color:#fbb144\">  3. Scientific Computing Libraries </div>"
   ]
  },
  {
   "cell_type": "markdown",
   "metadata": {},
   "source": [
    "### <div style=\"color:#fbb144\">   3.1. Matplotlib  </div>\n",
    "\n",
    "*Matplotlib* is a comprehensive library broadly used for producing **static, animated and interactive representations** in Python including plots, histograms, bar charts, etc.. It can be used in various environments, such as Python scripts, the Python and IPython shells and the Jupyter notebook.\n",
    "\n",
    "To properly utilize this library, here are some key steps to get started."
   ]
  },
  {
   "cell_type": "code",
   "execution_count": null,
   "metadata": {},
   "outputs": [],
   "source": [
    "import matplotlib.pyplot as plt\n",
    "import matplotlib.patches as mpatches\n",
    "import numpy as np       # this library will be further explored in the next section\n",
    "\n",
    "t = np.arange(0.0, 2*np.pi, 0.01) # timeline we want to plot\n",
    "\n",
    "plt.grid(True)          \n",
    "\n",
    "plt.title('Plot Example',{'size':15})  \n",
    "plt.xlabel('Time (s)')\n",
    "plt.ylabel('Amplitude')\n",
    "\n",
    "plt.annotate('local max', xy=(1.5, 1), xytext=(2, 1.5), arrowprops=dict(facecolor='black', shrink=0.05),) # arrow that points to a local maximum\n",
    "\n",
    "plt.axis([0,2*np.pi,-1-0.1,1+0.1]) # receives as argument [xmin,xmax,ymin,ymax]\n",
    "\n",
    "plt.plot(t, np.sin(t),label='Sine', color=\"#00bfc2\") \n",
    "\n",
    "plt.plot(t, np.cos(t),label='Cosine', color=\"#5756d6\") \n",
    "plt.legend()"
   ]
  },
  {
   "cell_type": "code",
   "execution_count": null,
   "metadata": {},
   "outputs": [],
   "source": [
    "Age = ['0-25','25-50','+50']\n",
    "Data =[10, 23, 16]\n",
    "\n",
    "plt.suptitle('Bar chart and plot example') \n",
    "\n",
    "plt.figure(figsize=(20, 4))\n",
    "plt.subplot(131)\n",
    "plt.bar(Age, Data,color=\"#00bfc2\")\n",
    "plt.xlabel('Age group')\n",
    "plt.ylabel('Number of individuals')\n",
    "\n",
    "\n",
    "plt.subplot(132)\n",
    "plt.plot(Age,Data,color=\"#5756d6\")\n",
    "plt.xlabel('Age group')\n",
    "plt.ylabel('Number of individuals')\n",
    "plt.show"
   ]
  },
  {
   "cell_type": "markdown",
   "metadata": {},
   "source": [
    "<div style=\"background:#946db2;font-family:'arial', monospace; text-align: center; padding: 10px 0; border-radius:10px; width:70%; margin:auto \" >\n",
    "  <span style=\"font-size:20px;position:relative;color:white; \"> Explore </span> <br>\n",
    "  <div style=\"background:#d0b3e6;font-size:12px\"> \n",
    "    To learn more about Matplotlib funtionalities, visit <a href='https://matplotlib.org/index.html'>Matplotlib</a>.\n",
    "</div>"
   ]
  },
  {
   "cell_type": "markdown",
   "metadata": {},
   "source": [
    "### <div style=\"color:#fbb144\">   3.2. NumPy  </div>\n",
    "\n",
    "*NumPy* is an easy-to-use, efficient tool for scientific computing.\n",
    "For instance, it offers:\n",
    "* a **N-dimensional array** object;\n",
    "\n",
    "* sophisticated **mathematical functions**;\n",
    "\n",
    "* **linear algebra** and **random number** capabilities.\n",
    "\n",
    "Let's visualize some of its operations."
   ]
  },
  {
   "cell_type": "code",
   "execution_count": null,
   "metadata": {},
   "outputs": [],
   "source": [
    "import numpy as np\n",
    "np.array([[1,2,3],[4,5,6]])"
   ]
  },
  {
   "cell_type": "code",
   "execution_count": null,
   "metadata": {},
   "outputs": [],
   "source": [
    "np.random.randint(100) # Everytime you run this code, a different integer up to, but not including, 100  will appear."
   ]
  },
  {
   "cell_type": "code",
   "execution_count": null,
   "metadata": {},
   "outputs": [],
   "source": [
    "a = np.arange(12).reshape(3,4) # Creates a 3x4 array with the numbers from 1 to 11\n",
    "b = a > 4\n",
    "a, b, a[b]                                     "
   ]
  },
  {
   "cell_type": "code",
   "execution_count": null,
   "metadata": {},
   "outputs": [],
   "source": [
    "x = [56, 7, 3, 89, 30, 61]\n",
    "np.sort(x)   # rearranges the list in ascending order"
   ]
  },
  {
   "cell_type": "code",
   "execution_count": null,
   "metadata": {},
   "outputs": [],
   "source": [
    "x = np.arange (6)\n",
    "print(x)\n",
    "\n",
    "x.reshape(2,3) # reshapes the array, receiving as arguments (line, column)"
   ]
  },
  {
   "cell_type": "markdown",
   "metadata": {},
   "source": [
    "<div style=\"background:#946db2;font-family:'arial', monospace; text-align: center; padding: 10px 0; border-radius:10px; width:70%; margin:auto \" >\n",
    "  <span style=\"font-size:20px;position:relative;color:white; \"> Explore </span> <br>\n",
    "  <div style=\"background:#d0b3e6;font-size:12px\"> \n",
    "      To learn more about NumPy funtionalities, visit <a href=\"https://numpy.org/\">NumPy</a>.\n",
    "</div>"
   ]
  },
  {
   "cell_type": "markdown",
   "metadata": {},
   "source": [
    "### <div style=\"color:#fbb144\">   3.3. Pandas  </div>\n",
    "\n",
    "*Pandas* is a package designed to work with **tabular data**, namely data stored in spreadsheets and databases. It allows, for instance, the manipulation of rows and columns by selecting/modifying/eliminating specific data. \n",
    "\n",
    "Here's some examples of how it works."
   ]
  },
  {
   "cell_type": "code",
   "execution_count": 4,
   "metadata": {},
   "outputs": [
    {
     "name": "stdout",
     "output_type": "stream",
     "text": [
      "    Name  Age\n",
      "0    Tom   20\n",
      "1   Jack   30\n",
      "2  Meera   25\n"
     ]
    }
   ],
   "source": [
    "import pandas as pd \n",
    "\n",
    "data = [['Tom', 20], ['Jack', 30], ['Meera', 25]]\n",
    "\n",
    "df = pd.DataFrame(data, columns = ['Name', 'Age'])\n",
    "\n",
    "print(df)"
   ]
  },
  {
   "cell_type": "code",
   "execution_count": 5,
   "metadata": {},
   "outputs": [
    {
     "name": "stdout",
     "output_type": "stream",
     "text": [
      "    Name  Age\n",
      "1   Jack   30\n",
      "2  Meera   25\n"
     ]
    }
   ],
   "source": [
    "print(df[df.Age > 20])"
   ]
  },
  {
   "cell_type": "markdown",
   "metadata": {},
   "source": [
    "\n",
    "<div style=\"background:#946db2;font-family:'arial', monospace; text-align: center; padding: 10px 0; border-radius:10px; width:70%; margin:auto \" >\n",
    "  <span style=\"font-size:20px;position:relative;color:white; \"> Explore </span> <br>\n",
    "  <div style=\"background:#d0b3e6;font-size:12px\"> \n",
    "    To learn more about Pandas funtionalities, visit <a href=\"https://pandas.pydata.org/docs/index.html/\">Pandas</a>.\n",
    "</div>"
   ]
  },
  {
   "cell_type": "markdown",
   "metadata": {},
   "source": [
    "# VII. Exercises\n",
    "<br>\n",
    "<div class='h1'  style=\"width:100%; background:linear-gradient(to right,#FDC86E,#fbb144);font-family:'arial black'; text-align: center; padding: 7px 0; border-radius: 5px 50px;margin-top:-15px\" > </div>"
   ]
  },
  {
   "cell_type": "markdown",
   "metadata": {},
   "source": []
  },
  {
   "cell_type": "markdown",
   "metadata": {},
   "source": [
    "# References\n",
    "<br>\n",
    "<div class='h1'  style=\"width:100%; background:linear-gradient(to right,#FDC86E,#fbb144);font-family:'arial black'; text-align: center; padding: 7px 0; border-radius: 5px 50px;margin-top:-15px\" > </div>"
   ]
  },
  {
   "cell_type": "markdown",
   "metadata": {},
   "source": [
    "* A. Downey, [*Think Python*](https://www.greenteapress.com/thinkpython/thinkpython.pdf). *How to Think Like a Computer Scientist*, 2nd ed. Needham, Massachusetts: Green Tea Press, 2014.\n",
    "* https://runestone.academy/\n",
    "* https://www.scaler.com/\n",
    "* https://www.math.tecnico.ulisboa.pt/~ccal/python/"
   ]
  },
  {
   "cell_type": "markdown",
   "metadata": {},
   "source": [
    "## <div style=\"color:#fbb144\">  1. Where to learn Python? (optional) </div>"
   ]
  },
  {
   "cell_type": "markdown",
   "metadata": {},
   "source": [
    "* [Real Python](https://realpython.com/)\n",
    "\n",
    "* [Codecademy](https://www.codecademy.com)\n",
    "\n",
    "* [Programiz](https://www.programiz.com/)\n",
    "\n",
    "* [W3Schools](https://www.w3schools.com/)"
   ]
  },
  {
   "cell_type": "markdown",
   "metadata": {},
   "source": [
    "## <div style=\"color:#fbb144\">  2. Further Reading  </div>"
   ]
  },
  {
   "cell_type": "code",
   "execution_count": null,
   "metadata": {},
   "outputs": [],
   "source": []
  },
  {
   "cell_type": "markdown",
   "metadata": {},
   "source": [
    "<div style=\"height:100px; background:white;border-radius:10px;text-align:center\"> \n",
    "\n",
    "<img src=\"https://github.com/PIA-Group/ScientIST-notebooks/blob/master/_Resources/Images/IT.png?raw=true\" alt=\"it\" style=\"bottom: 0; width:250px;\n",
    "    display: inline;\n",
    "    left: 250px;\n",
    "    position: absolute;\"/> \n",
    "\n",
    "    \n",
    "<img src=\"https://github.com/PIA-Group/ScientIST-notebooks/blob/master/_Resources/Images/IST.png?raw=true\" alt=\"alternate text\" \n",
    "         style=\"position: relative;   width:250px; float: left;\n",
    "    position: absolute;\n",
    "    display: inline;\n",
    "    bottom: 0;\n",
    "    right: 300;\"/>\n",
    "</div> "
   ]
  },
  {
   "cell_type": "markdown",
   "metadata": {},
   "source": [
    "```Contributors:  ``` Hugo Plácido da Silva, Rafael Silva"
   ]
  },
  {
   "cell_type": "markdown",
   "metadata": {},
   "source": [
    "<div style=\"background:#48ba57;font-family:'arial', monospace; text-align: center; padding: 10px 0; border-radius:10px; width:70%; margin:auto \" >\n",
    "  <span style=\"font-size:20px;position:relative;color:white; \">  Note </span> <br>\n",
    "  <div style=\"background:#9de3a6;font-size:12px\"> \n",
    "    The note must be explained here...     \n",
    "</div>\n",
    "</div>"
   ]
  },
  {
   "cell_type": "markdown",
   "metadata": {},
   "source": [
    "<div style=\"background:#fbb144;font-family:'arial', monospace; text-align: center; padding: 10px 0; border-radius:10px; width:70%; margin:auto \" >\n",
    "  <span style=\"font-size:20px;position:relative;color:white; \">  Warning! </span> <br>\n",
    "  <div style=\"background:#ffd08a;font-size:12px\"> \n",
    "    The warning must be explained here...      \n",
    "    </div>\n",
    "</div>"
   ]
  },
  {
   "cell_type": "markdown",
   "metadata": {},
   "source": [
    "<div style=\"background:#946db2;font-family:'arial', monospace; text-align: center; padding: 10px 0; border-radius:10px; width:70%; margin:auto \" >\n",
    "  <span style=\"font-size:20px;position:relative;color:white; \"> Explore </span> <br>\n",
    "  <div style=\"background:#d0b3e6;font-size:12px\"> \n",
    "    The explore more advice must be explained here...      \n",
    "</div>\n",
    "</div>"
   ]
  },
  {
   "cell_type": "markdown",
   "metadata": {},
   "source": [
    "<div style=\"background:#fe9b29;font-family:'arial', monospace; text-align: center; padding: 10px 0; border-radius:10px; width:70%; margin:auto \" >\n",
    "  <span style=\"font-size:20px;position:relative;color:white; \">  Caution! </span> <br>\n",
    "  <div style=\"background:#ffdab0;font-size:12px\"> \n",
    "    The caution must be explained here...     \n",
    "</div>\n",
    "</div>"
   ]
  }
 ],
 "metadata": {
  "kernelspec": {
   "display_name": "Python 3",
   "language": "python",
   "name": "python3"
  },
  "language_info": {
   "codemirror_mode": {
    "name": "ipython",
    "version": 3
   },
   "file_extension": ".py",
   "mimetype": "text/x-python",
   "name": "python",
   "nbconvert_exporter": "python",
   "pygments_lexer": "ipython3",
   "version": "3.8.5"
  }
 },
 "nbformat": 4,
 "nbformat_minor": 4
}
