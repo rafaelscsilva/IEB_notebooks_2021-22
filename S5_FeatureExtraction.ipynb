{
 "cells": [
  {
   "cell_type": "markdown",
   "metadata": {},
   "source": [
    "<div  style=\"color:#303030;font-family:'arial blACK', sans-serif,monospace; text-align: center; padding: 50px 0; vertical-align:middle;\" > <img src=\"https://github.com/PIA-Group/ScientIST-notebooks/blob/master/_Resources/Images/Lightbulb.png?raw=true\" style=\" background:linear-gradient(to right,#FDC86E,#fbb144);border-radius:10px;width:150px;text-align:left; margin-left:10%\"  /> <span style=\"position:relative; bottom:70px; margin-left:5%;font-size:170%;;font-size:170%;\">    Template - Example </span> </div>"
   ]
  },
  {
   "cell_type": "markdown",
   "metadata": {},
   "source": [
    "## <span style=\"color:#fbb144;\"> Keywords: </span>"
   ]
  },
  {
   "cell_type": "markdown",
   "metadata": {},
   "source": [
    "```Keyword 1```, ```Keyword 2```, ```Keyword 3```"
   ]
  },
  {
   "cell_type": "markdown",
   "metadata": {},
   "source": [
    "# I. Introduction\n",
    "<br>\n",
    "<div class=\"title\"style=\"width:100%; background:linear-gradient(to right,#FDC86E,#fbb144);font-family:'arial black',monospace; text-align: center; padding: 7px 0; border-radius: 5px 50px;margin-top:-15px\" >  </div>"
   ]
  },
  {
   "cell_type": "markdown",
   "metadata": {},
   "source": [
    "This notebook provides an overview to the complete set of notebooks made available in this repository. Despite being grouped by category, these are independent an can be organized as most suits the purpose of the course."
   ]
  },
  {
   "cell_type": "markdown",
   "metadata": {},
   "source": [
    "# <div style=\"color:#fbb144\"> 1. Background </div>"
   ]
  },
  {
   "cell_type": "markdown",
   "metadata": {},
   "source": [
    "This section should briefly comprise the concepts, context, and motivation to introduce the topic of the class."
   ]
  },
  {
   "cell_type": "markdown",
   "metadata": {},
   "source": [
    "# <div style=\"color:#fbb144\"> 2. Objectives</div>\n",
    "* Objetive 1 ...\n",
    "* Objetive 2 ...\n",
    "* ..."
   ]
  },
  {
   "cell_type": "markdown",
   "metadata": {},
   "source": [
    "# <div style=\"color:#fbb144\"> 3. Materials (optional) </div>\n",
    "* Material 1 ...\n",
    "* Material 2 ...\n",
    "* ..."
   ]
  },
  {
   "cell_type": "code",
   "execution_count": null,
   "metadata": {},
   "outputs": [],
   "source": [
    "import scipy as sp\n",
    "fs = 1000\n",
    "peaks, _ = sp.signal.find_peaks(ecg_mv_real, height=0.5, distance=0.6*fs)\n",
    "\n",
    "plt.plot(time, ecg_mv_real)\n",
    "plt.plot(time[peaks], ecg_mv_real[peaks],'x')\n",
    "plt.xlim([0,5])"
   ]
  },
  {
   "cell_type": "markdown",
   "metadata": {},
   "source": [
    "# II. BioSignal Processing in Python (BioSPPy) Toolbox\n",
    "<br>\n",
    "<div class=\"title\"style=\"width:100%; background:linear-gradient(to right,#FDC86E,#fbb144);font-family:'arial black',monospace; text-align: center; padding: 7px 0; border-radius: 5px 50px;margin-top:-15px\" >  </div>"
   ]
  },
  {
   "cell_type": "markdown",
   "metadata": {},
   "source": [
    "<img src=\"https://raw.githubusercontent.com/PIA-Group/BioSPPy/master/docs/logo/logo_400.png\"/>\n"
   ]
  },
  {
   "cell_type": "markdown",
   "metadata": {},
   "source": [
    "*BioSPPy* is a toolbox written in Python for **biosignal processing**. It covers filtering, frequency analysis of the raw signal acquired, clustering and biometrics. This package supports various biosignals, namely, Blood Volume Pulse (BVP), Eletrocardiogram (ECG), Eletrodermal Activity (EDA), Eletroencephalogram (EEG), Eletromyogram (EMG) and Respiration (RESP).\n",
    "\n",
    "To install the *BioSPPy* package in your Python environment, run the following:\n",
    "\n",
    "*Note: accept to install any packages that may be required.*"
   ]
  },
  {
   "cell_type": "code",
   "execution_count": 2,
   "metadata": {},
   "outputs": [
    {
     "name": "stdout",
     "output_type": "stream",
     "text": [
      "Requirement already satisfied: biosppy in c:\\users\\rafa9\\anaconda3\\lib\\site-packages (0.6.1)\n",
      "Requirement already satisfied: scikit-learn in c:\\users\\rafa9\\anaconda3\\lib\\site-packages (from biosppy) (0.23.2)\n",
      "Requirement already satisfied: matplotlib in c:\\users\\rafa9\\anaconda3\\lib\\site-packages (from biosppy) (3.3.2)\n",
      "Requirement already satisfied: shortuuid in c:\\users\\rafa9\\anaconda3\\lib\\site-packages (from biosppy) (1.0.1)\n",
      "Requirement already satisfied: h5py in c:\\users\\rafa9\\anaconda3\\lib\\site-packages (from biosppy) (2.10.0)\n",
      "Requirement already satisfied: scipy in c:\\users\\rafa9\\anaconda3\\lib\\site-packages (from biosppy) (1.5.2)\n",
      "Requirement already satisfied: bidict in c:\\users\\rafa9\\anaconda3\\lib\\site-packages (from biosppy) (0.21.2)\n",
      "Requirement already satisfied: joblib in c:\\users\\rafa9\\anaconda3\\lib\\site-packages (from biosppy) (0.17.0)\n",
      "Requirement already satisfied: numpy in c:\\users\\rafa9\\appdata\\roaming\\python\\python38\\site-packages (from biosppy) (1.18.5)\n",
      "Requirement already satisfied: six in c:\\users\\rafa9\\anaconda3\\lib\\site-packages (from biosppy) (1.15.0)\n",
      "Requirement already satisfied: threadpoolctl>=2.0.0 in c:\\users\\rafa9\\anaconda3\\lib\\site-packages (from scikit-learn->biosppy) (2.1.0)\n",
      "Requirement already satisfied: python-dateutil>=2.1 in c:\\users\\rafa9\\anaconda3\\lib\\site-packages (from matplotlib->biosppy) (2.8.1)\n",
      "Requirement already satisfied: pyparsing!=2.0.4,!=2.1.2,!=2.1.6,>=2.0.3 in c:\\users\\rafa9\\anaconda3\\lib\\site-packages (from matplotlib->biosppy) (2.4.7)\n",
      "Requirement already satisfied: pillow>=6.2.0 in c:\\users\\rafa9\\anaconda3\\lib\\site-packages (from matplotlib->biosppy) (8.0.1)\n",
      "Requirement already satisfied: certifi>=2020.06.20 in c:\\users\\rafa9\\anaconda3\\lib\\site-packages (from matplotlib->biosppy) (2020.6.20)\n",
      "Requirement already satisfied: cycler>=0.10 in c:\\users\\rafa9\\anaconda3\\lib\\site-packages (from matplotlib->biosppy) (0.10.0)\n",
      "Requirement already satisfied: kiwisolver>=1.0.1 in c:\\users\\rafa9\\anaconda3\\lib\\site-packages (from matplotlib->biosppy) (1.3.0)\n"
     ]
    }
   ],
   "source": [
    "!pip install biosppy"
   ]
  },
  {
   "cell_type": "markdown",
   "metadata": {},
   "source": [
    "Github... clone"
   ]
  },
  {
   "cell_type": "code",
   "execution_count": null,
   "metadata": {},
   "outputs": [],
   "source": []
  },
  {
   "cell_type": "code",
   "execution_count": null,
   "metadata": {},
   "outputs": [],
   "source": [
    "import biosppy\n",
    "dir(biosppy.signals)"
   ]
  },
  {
   "cell_type": "code",
   "execution_count": null,
   "metadata": {},
   "outputs": [],
   "source": [
    "from biosppy.signals import ecg\n",
    "%matplotlib\n",
    "ecg.ecg(ecg_mv_real);"
   ]
  },
  {
   "cell_type": "markdown",
   "metadata": {},
   "source": [
    "<div style=\"background:#946db2;font-family:'arial', monospace; text-align: center; padding: 10px 0; border-radius:10px; width:70%; margin:auto \" >\n",
    "  <span style=\"font-size:20px;position:relative;color:white; \"> Explore </span> <br>\n",
    "  <div style=\"background:#d0b3e6;font-size:12px\"> \n",
    "    To learn more about BioSPPy funtionalities, visit the BioSSPy documentation <a href=\"https://biosppy.readthedocs.io/en/stable/\">here</a> or visit the GitHub page <a href=\"https://github.com/PIA-Group/BioSPPy\">here</a>.\n",
    "</div>\n"
   ]
  },
  {
   "cell_type": "code",
   "execution_count": null,
   "metadata": {},
   "outputs": [],
   "source": []
  },
  {
   "cell_type": "markdown",
   "metadata": {},
   "source": [
    "<div style=\"background:#fbb144;font-family:'arial', monospace; text-align: center; padding: 10px 0; border-radius:10px; width:70%; margin:auto \" >\n",
    "  <span style=\"font-size:20px;position:relative;color:white; \">  Warning! </span> <br>\n",
    "  <div style=\"background:#ffd08a;font-size:12px\"> \n",
    "    The warning must be explained here...      \n",
    "    </div>\n",
    "</div>"
   ]
  },
  {
   "cell_type": "markdown",
   "metadata": {},
   "source": [
    "<div style=\"background:#48ba57;font-family:'arial', monospace; text-align: center; padding: 10px 0; border-radius:10px; width:70%; margin:auto \" >\n",
    "  <span style=\"font-size:20px;position:relative;color:white; \">  Note </span> <br>\n",
    "  <div style=\"background:#9de3a6;font-size:12px\"> \n",
    "    The note must be explained here...     \n",
    "</div>\n",
    "</div>"
   ]
  },
  {
   "cell_type": "markdown",
   "metadata": {},
   "source": [
    "<div style=\"background:#946db2;font-family:'arial', monospace; text-align: center; padding: 10px 0; border-radius:10px; width:70%; margin:auto \" >\n",
    "  <span style=\"font-size:20px;position:relative;color:white; \"> Explore </span> <br>\n",
    "  <div style=\"background:#d0b3e6;font-size:12px\"> \n",
    "    The explore more advice must be explained here...      \n",
    "</div>\n",
    "</div>"
   ]
  },
  {
   "cell_type": "markdown",
   "metadata": {},
   "source": [
    "<div style=\"background:#fe9b29;font-family:'arial', monospace; text-align: center; padding: 10px 0; border-radius:10px; width:70%; margin:auto \" >\n",
    "  <span style=\"font-size:20px;position:relative;color:white; \">  Caution! </span> <br>\n",
    "  <div style=\"background:#ffdab0;font-size:12px\"> \n",
    "    The caution must be explained here...     \n",
    "</div>\n",
    "</div>"
   ]
  }
 ],
 "metadata": {
  "kernelspec": {
   "display_name": "Python 3",
   "language": "python",
   "name": "python3"
  },
  "language_info": {
   "codemirror_mode": {
    "name": "ipython",
    "version": 3
   },
   "file_extension": ".py",
   "mimetype": "text/x-python",
   "name": "python",
   "nbconvert_exporter": "python",
   "pygments_lexer": "ipython3",
   "version": "3.8.5"
  }
 },
 "nbformat": 4,
 "nbformat_minor": 4
}
